{
 "cells": [
  {
   "cell_type": "markdown",
   "id": "0a36b4a0",
   "metadata": {},
   "source": [
    "# Send REST requests to the WeatherApp.API running in Aspire"
   ]
  },
  {
   "cell_type": "code",
   "execution_count": null,
   "id": "9131d2f5",
   "metadata": {
    "polyglot_notebook": {
     "kernelName": "csharp"
    },
    "vscode": {
     "languageId": "polyglot-notebook"
    }
   },
   "outputs": [],
   "source": [
    "// First set the base url.\n",
    "var baseUrl = \"https://localhost:7220\";"
   ]
  },
  {
   "cell_type": "markdown",
   "id": "7f18c130",
   "metadata": {},
   "source": [
    "## Healthcheck 💉"
   ]
  },
  {
   "cell_type": "code",
   "execution_count": null,
   "id": "5077ae89",
   "metadata": {
    "polyglot_notebook": {
     "kernelName": "http"
    },
    "vscode": {
     "languageId": "polyglot-notebook"
    }
   },
   "outputs": [],
   "source": [
    "#!set --value @csharp:baseUrl --name baseUrl\n",
    "GET {{baseUrl}}/"
   ]
  },
  {
   "cell_type": "markdown",
   "id": "3c4fd13d",
   "metadata": {},
   "source": [
    "## GET Weather Forecast 🌦️🌈🔆"
   ]
  },
  {
   "cell_type": "code",
   "execution_count": null,
   "id": "e9bb46e8",
   "metadata": {
    "polyglot_notebook": {
     "kernelName": "http"
    },
    "vscode": {
     "languageId": "polyglot-notebook"
    }
   },
   "outputs": [],
   "source": [
    "#!set --value @csharp:baseUrl --name baseUrl\n",
    "GET {{baseUrl}}/v1/weather-forecast/Bristol/{{$datetime iso8601}}"
   ]
  },
  {
   "cell_type": "markdown",
   "id": "fde38926",
   "metadata": {},
   "source": [
    "## POST Colected Weather Data 🌡️☔💨"
   ]
  },
  {
   "cell_type": "code",
   "execution_count": null,
   "id": "840e5c03",
   "metadata": {
    "polyglot_notebook": {
     "kernelName": "csharp"
    },
    "vscode": {
     "languageId": "polyglot-notebook"
    }
   },
   "outputs": [],
   "source": [
    "// Generate a random reference...\n",
    "string[] fruits = [\"apple\", \"banana\", \"cherry\", \"date\", \"elderberry\", \"fig\", \"grape\", \"honeydew\", \"kiwi\", \"lemon\", \"mango\", \"nectarine\", \"orange\", \"papaya\", \"quince\", \"raspberry\", \"strawberry\", \"tangerine\", \"watermelon\", \"guava\"];\n",
    "var randomReference = $\"{fruits[new Random().Next(fruits.Length)]}-{Random.Shared.Next(10, 99)}\";\n",
    "randomReference.Display();"
   ]
  },
  {
   "cell_type": "code",
   "execution_count": null,
   "id": "101e0570",
   "metadata": {
    "polyglot_notebook": {
     "kernelName": "http"
    },
    "vscode": {
     "languageId": "polyglot-notebook"
    }
   },
   "outputs": [],
   "source": [
    "#!set --value @csharp:baseUrl --name baseUrl\n",
    "#!set --value @csharp:randomReference --name randomReference\n",
    "\n",
    "POST {{baseUrl}}/v1/collected-weather-data/Bristol/{{randomReference}}\n",
    "Content-Type: application/json\n",
    "x-request-id: {{$guid}}\n",
    "    \n",
    "{\n",
    "    \"points\": [\n",
    "        {\n",
    "            \"time\": \"{{$datetime iso8601}}\",\n",
    "            \"windSpeedInMetersPerSecond\": {{$randomInt 0 69}}.{{$randomInt 0 99}},\n",
    "            \"windDirection\": \"N\",\n",
    "            \"temperatureReadingInDegreesCelcius\": {{$randomInt -15 40}}.{{$randomInt 0 99}},\n",
    "            \"humidityReadingInPercent\": {{$randomInt 20 100}}\n",
    "        }\n",
    "    ]\n",
    "}"
   ]
  },
  {
   "cell_type": "markdown",
   "id": "74673f9a",
   "metadata": {},
   "source": [
    "<div style=\"display:block; height:40rem;\"></div>\n",
    "\n",
    "## GET Traces 🤖"
   ]
  },
  {
   "cell_type": "code",
   "execution_count": null,
   "id": "2cfb7dd9",
   "metadata": {
    "polyglot_notebook": {
     "kernelName": "csharp"
    },
    "vscode": {
     "languageId": "polyglot-notebook"
    }
   },
   "outputs": [],
   "source": [
    "using System.Net.Http;\n",
    "using System.Text.Json;\n",
    "\n",
    "public class TraceData\n",
    "{\n",
    "    public string Resource { get; set; } = string.Empty;\n",
    "    public string Source { get; set; } = string.Empty;\n",
    "    public string DisplayName { get; set; } = string.Empty;\n",
    "    public string TraceId { get; set; } = string.Empty;\n",
    "    public string SpanId { get; set; } = string.Empty;    \n",
    "    public Dictionary<string, object> Tags { get; set; } = new();\n",
    "\n",
    "    public override string ToString()\n",
    "    {\n",
    "        var thirdPart = string.Empty;\n",
    "        if(DisplayName == \"Domain Event Insertion\")\n",
    "            thirdPart = Tags[\"domain-event.eventclassName\"].ToString().Split('.').LastOrDefault();\n",
    "\n",
    "        if(DisplayName == \"User Notication Sent\")\n",
    "            thirdPart = $\"✉️ reference: {Tags[\"user-notification-event.reference\"].ToString()}\";\n",
    "\n",
    "        if(DisplayName == \"Outbox Item Insertion\")\n",
    "            thirdPart = $\"📫 outbox id: {Tags[\"outbox-item.Id\"].ToString()}\";\n",
    "        \n",
    "            \n",
    "        \n",
    "        return $\"{Resource.PadRight(30, '-')}> {DisplayName.PadRight(30, '-')}> {thirdPart}\";\n",
    "    } \n",
    "        \n",
    "}\n",
    "\n",
    "var client = new HttpClient() { BaseAddress = new Uri(\"https://localhost:7059\") };\n",
    "var response = await client.GetAsync(\"traces\");\n",
    "var responseJson = await response.Content.ReadAsStringAsync();\n",
    "JsonSerializer.Deserialize<TraceData[]>(responseJson, JsonSerializerOptions.Web ).Display();"
   ]
  }
 ],
 "metadata": {
  "kernelspec": {
   "display_name": ".NET (C#)",
   "language": "C#",
   "name": ".net-csharp"
  },
  "language_info": {
   "name": "python"
  },
  "polyglot_notebook": {
   "kernelInfo": {
    "defaultKernelName": "csharp",
    "items": [
     {
      "aliases": [],
      "name": "csharp"
     }
    ]
   }
  }
 },
 "nbformat": 4,
 "nbformat_minor": 5
}
