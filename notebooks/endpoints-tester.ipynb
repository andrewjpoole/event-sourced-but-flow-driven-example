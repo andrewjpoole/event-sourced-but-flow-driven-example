{
 "cells": [
  {
   "cell_type": "markdown",
   "id": "0a36b4a0",
   "metadata": {},
   "source": [
    "# Send REST requests to the WeatherApp.API running in Aspire"
   ]
  },
  {
   "cell_type": "code",
   "execution_count": 6,
   "id": "9131d2f5",
   "metadata": {
    "polyglot_notebook": {
     "kernelName": "csharp"
    },
    "vscode": {
     "languageId": "polyglot-notebook"
    }
   },
   "outputs": [],
   "source": [
    "// First set the base url.\n",
    "var baseUrl = \"https://localhost:7220\";"
   ]
  },
  {
   "cell_type": "markdown",
   "id": "7f18c130",
   "metadata": {},
   "source": [
    "## Healthcheck 💉"
   ]
  },
  {
   "cell_type": "code",
   "execution_count": 7,
   "metadata": {
    "polyglot_notebook": {
     "kernelName": "http"
    },
    "vscode": {
     "languageId": "polyglot-notebook"
    }
   },
   "outputs": [
    {
     "data": {
      "text/html": [
       "<div class=\"http-response-message-container\"><style type=\"text/css\">\r\n",
       "            .http-response-message-container {\r\n",
       "                display: flex;\r\n",
       "                flex-wrap: wrap;\r\n",
       "            }\r\n",
       "\r\n",
       "            .http-response-message-container > div {\r\n",
       "                margin: .5em;\r\n",
       "                padding: 1em;\r\n",
       "                border: 1px solid;\r\n",
       "            }\r\n",
       "\r\n",
       "            .http-response-message-container > div > h2 {\r\n",
       "                margin-top: 0;\r\n",
       "            }\r\n",
       "\r\n",
       "            .http-response-message-container > div > h3 {\r\n",
       "                margin-bottom: 0;\r\n",
       "            }\r\n",
       "\r\n",
       "            .http-response-message-container summary {\r\n",
       "                margin: 1em 0;\r\n",
       "                font-size: 1.17em;\r\n",
       "                font-weight: 700;\r\n",
       "            }\r\n",
       "\r\n",
       "            @keyframes blink {\r\n",
       "                0% {\r\n",
       "                  opacity: .2;\r\n",
       "                }\r\n",
       "                20% {\r\n",
       "                  opacity: 1;\r\n",
       "                }\r\n",
       "                100% {\r\n",
       "                  opacity: .2;\r\n",
       "                }\r\n",
       "            }\r\n",
       "\r\n",
       "            .ellipsis span {\r\n",
       "                animation-name: blink;\r\n",
       "                animation-duration: 1.4s;\r\n",
       "                animation-iteration-count: infinite;\r\n",
       "                animation-fill-mode: both;\r\n",
       "            }\r\n",
       "\r\n",
       "            .ellipsis span:nth-child(2) {\r\n",
       "                animation-delay: .2s;\r\n",
       "            }\r\n",
       "\r\n",
       "            .ellipsis span:nth-child(3) {\r\n",
       "                animation-delay: .4s;\r\n",
       "            }</style><div><h2>Request</h2><hr></hr><h3>GET <a href=\"https://localhost:7220/\">https://localhost:7220/</a> HTTP/1.1</h3><details><summary>Headers</summary><table><thead><tr><th>Name</th><th>Value</th></tr></thead><tbody><tr><td>traceparent</td><td>00-5b5574261e729e130d8f6587071946e1-2e13a44daddcab01-00</td></tr></tbody></table></details><details><summary>Body (text/plain; charset=utf-8, 0 bytes)</summary><pre></pre></details></div><div><h2>Response</h2><hr></hr><h3>HTTP/1.1 200 OK (98.81 ms)</h3><details open=\"True\"><summary>Headers</summary><table><thead><tr><th>Name</th><th>Value</th></tr></thead><tbody><tr><td>Date</td><td>Tue, 22 Apr 2025 20:56:31 GMT</td></tr><tr><td>Server</td><td>Kestrel</td></tr><tr><td>Transfer-Encoding</td><td>chunked</td></tr><tr><td>Content-Type</td><td>text/plain; charset=utf-8</td></tr><tr><td>Content-Length</td><td>26</td></tr></tbody></table></details><details><summary>Body (text/plain; charset=utf-8, 26 bytes)</summary>WeatherApp API is running!</details></div></div>"
      ]
     },
     "metadata": {},
     "output_type": "display_data"
    }
   ],
   "source": [
    "#!set --value @csharp:baseUrl --name baseUrl\n",
    "GET {{baseUrl}}/"
   ]
  },
  {
   "cell_type": "markdown",
   "id": "3c4fd13d",
   "metadata": {},
   "source": [
    "## GET Weather Forecast 🌦️🌈🔆"
   ]
  },
  {
   "cell_type": "code",
   "execution_count": 8,
   "id": "e9bb46e8",
   "metadata": {
    "polyglot_notebook": {
     "kernelName": "http"
    },
    "vscode": {
     "languageId": "polyglot-notebook"
    }
   },
   "outputs": [
    {
     "data": {
      "text/html": [
       "<div class=\"http-response-message-container\"><style type=\"text/css\">\r\n",
       "            .http-response-message-container {\r\n",
       "                display: flex;\r\n",
       "                flex-wrap: wrap;\r\n",
       "            }\r\n",
       "\r\n",
       "            .http-response-message-container > div {\r\n",
       "                margin: .5em;\r\n",
       "                padding: 1em;\r\n",
       "                border: 1px solid;\r\n",
       "            }\r\n",
       "\r\n",
       "            .http-response-message-container > div > h2 {\r\n",
       "                margin-top: 0;\r\n",
       "            }\r\n",
       "\r\n",
       "            .http-response-message-container > div > h3 {\r\n",
       "                margin-bottom: 0;\r\n",
       "            }\r\n",
       "\r\n",
       "            .http-response-message-container summary {\r\n",
       "                margin: 1em 0;\r\n",
       "                font-size: 1.17em;\r\n",
       "                font-weight: 700;\r\n",
       "            }\r\n",
       "\r\n",
       "            @keyframes blink {\r\n",
       "                0% {\r\n",
       "                  opacity: .2;\r\n",
       "                }\r\n",
       "                20% {\r\n",
       "                  opacity: 1;\r\n",
       "                }\r\n",
       "                100% {\r\n",
       "                  opacity: .2;\r\n",
       "                }\r\n",
       "            }\r\n",
       "\r\n",
       "            .ellipsis span {\r\n",
       "                animation-name: blink;\r\n",
       "                animation-duration: 1.4s;\r\n",
       "                animation-iteration-count: infinite;\r\n",
       "                animation-fill-mode: both;\r\n",
       "            }\r\n",
       "\r\n",
       "            .ellipsis span:nth-child(2) {\r\n",
       "                animation-delay: .2s;\r\n",
       "            }\r\n",
       "\r\n",
       "            .ellipsis span:nth-child(3) {\r\n",
       "                animation-delay: .4s;\r\n",
       "            }</style><div><h2>Request</h2><hr></hr><h3>GET <a href=\"https://localhost:7220/v1/weather-forecast/Bristol/2025-04-22T20:56:37.9333473Z\">https://localhost:7220/v1/weather-forecast/Bristol/2025-04-22T20:56:37.9333473Z</a> HTTP/1.1</h3><details><summary>Headers</summary><table><thead><tr><th>Name</th><th>Value</th></tr></thead><tbody><tr><td>traceparent</td><td>00-68225243c6737248fd9296ac0b4c0eb6-2b41ad3952ec7b6f-00</td></tr></tbody></table></details><details><summary>Body (application/json; charset=utf-8, 0 bytes)</summary><pre></pre></details></div><div><h2>Response</h2><hr></hr><h3>HTTP/1.1 200 OK (125.36 ms)</h3><details open=\"True\"><summary>Headers</summary><table><thead><tr><th>Name</th><th>Value</th></tr></thead><tbody><tr><td>Date</td><td>Tue, 22 Apr 2025 20:56:38 GMT</td></tr><tr><td>Server</td><td>Kestrel</td></tr><tr><td>Transfer-Encoding</td><td>chunked</td></tr><tr><td>Content-Type</td><td>application/json; charset=utf-8</td></tr><tr><td>Content-Length</td><td>175</td></tr></tbody></table></details><details><summary>Body (application/json; charset=utf-8, 175 bytes)</summary><details class=\"dni-treeview\"><summary><span class=\"dni-code-hint\"><code>{&quot;requestedRegion&quot;:&quot;Bristol&quot;,&quot;requestedDate&quot;:&quot;2025-04-22T20:56:37.9333473Z&quot;,&quot;requestId&quot;:&quot;a3cf0256-bc02-4977-a4f8-1752381cc3fb&quot;,&quot;temperature&quot;:32,&quot;summary&quot;:&quot;summary from cache&quot;}</code></span></summary><div><table><thead><tr></tr></thead><tbody><tr><td>requestedRegion</td><td><span>&quot;Bristol&quot;</span></td></tr><tr><td>requestedDate</td><td><span>&quot;2025-04-22T20:56:37.9333473Z&quot;</span></td></tr><tr><td>requestId</td><td><span>&quot;a3cf0256-bc02-4977-a4f8-1752381cc3fb&quot;</span></td></tr><tr><td>temperature</td><td><span><div class=\"dni-plaintext\"><pre>32</pre></div></span></td></tr><tr><td>summary</td><td><span>&quot;summary from cache&quot;</span></td></tr></tbody></table></div></details></details></div></div><style>\r\n",
       ".dni-code-hint {\r\n",
       "    font-style: italic;\r\n",
       "    overflow: hidden;\r\n",
       "    white-space: nowrap;\r\n",
       "}\r\n",
       ".dni-treeview {\r\n",
       "    white-space: nowrap;\r\n",
       "}\r\n",
       ".dni-treeview td {\r\n",
       "    vertical-align: top;\r\n",
       "    text-align: start;\r\n",
       "}\r\n",
       "details.dni-treeview {\r\n",
       "    padding-left: 1em;\r\n",
       "}\r\n",
       "table td {\r\n",
       "    text-align: start;\r\n",
       "}\r\n",
       "table tr { \r\n",
       "    vertical-align: top; \r\n",
       "    margin: 0em 0px;\r\n",
       "}\r\n",
       "table tr td pre \r\n",
       "{ \r\n",
       "    vertical-align: top !important; \r\n",
       "    margin: 0em 0px !important;\r\n",
       "} \r\n",
       "table th {\r\n",
       "    text-align: start;\r\n",
       "}\r\n",
       "</style>"
      ]
     },
     "metadata": {},
     "output_type": "display_data"
    }
   ],
   "source": [
    "#!set --value @csharp:baseUrl --name baseUrl\n",
    "GET {{baseUrl}}/v1/weather-forecast/Bristol/{{$datetime iso8601}}"
   ]
  },
  {
   "cell_type": "markdown",
   "id": "fde38926",
   "metadata": {},
   "source": [
    "## POST Colected Weather Data 🌡️☔💨"
   ]
  },
  {
   "cell_type": "code",
   "execution_count": 15,
   "id": "840e5c03",
   "metadata": {
    "polyglot_notebook": {
     "kernelName": "csharp"
    },
    "vscode": {
     "languageId": "polyglot-notebook"
    }
   },
   "outputs": [
    {
     "data": {
      "text/plain": [
       "mango-27"
      ]
     },
     "metadata": {},
     "output_type": "display_data"
    }
   ],
   "source": [
    "// Generate a random reference...\n",
    "string[] fruits = [\"apple\", \"banana\", \"cherry\", \"date\", \"elderberry\", \"fig\", \"grape\", \"honeydew\", \"kiwi\", \"lemon\", \"mango\", \"nectarine\", \"orange\", \"papaya\", \"quince\", \"raspberry\", \"strawberry\", \"tangerine\", \"watermelon\", \"guava\"];\n",
    "var randomReference = $\"{fruits[new Random().Next(fruits.Length)]}-{Random.Shared.Next(10, 99)}\";\n",
    "randomReference.Display();"
   ]
  },
  {
   "cell_type": "code",
   "execution_count": 16,
   "id": "101e0570",
   "metadata": {
    "polyglot_notebook": {
     "kernelName": "http"
    },
    "vscode": {
     "languageId": "polyglot-notebook"
    }
   },
   "outputs": [
    {
     "data": {
      "text/html": [
       "<div class=\"http-response-message-container\"><style type=\"text/css\">\r\n",
       "            .http-response-message-container {\r\n",
       "                display: flex;\r\n",
       "                flex-wrap: wrap;\r\n",
       "            }\r\n",
       "\r\n",
       "            .http-response-message-container > div {\r\n",
       "                margin: .5em;\r\n",
       "                padding: 1em;\r\n",
       "                border: 1px solid;\r\n",
       "            }\r\n",
       "\r\n",
       "            .http-response-message-container > div > h2 {\r\n",
       "                margin-top: 0;\r\n",
       "            }\r\n",
       "\r\n",
       "            .http-response-message-container > div > h3 {\r\n",
       "                margin-bottom: 0;\r\n",
       "            }\r\n",
       "\r\n",
       "            .http-response-message-container summary {\r\n",
       "                margin: 1em 0;\r\n",
       "                font-size: 1.17em;\r\n",
       "                font-weight: 700;\r\n",
       "            }\r\n",
       "\r\n",
       "            @keyframes blink {\r\n",
       "                0% {\r\n",
       "                  opacity: .2;\r\n",
       "                }\r\n",
       "                20% {\r\n",
       "                  opacity: 1;\r\n",
       "                }\r\n",
       "                100% {\r\n",
       "                  opacity: .2;\r\n",
       "                }\r\n",
       "            }\r\n",
       "\r\n",
       "            .ellipsis span {\r\n",
       "                animation-name: blink;\r\n",
       "                animation-duration: 1.4s;\r\n",
       "                animation-iteration-count: infinite;\r\n",
       "                animation-fill-mode: both;\r\n",
       "            }\r\n",
       "\r\n",
       "            .ellipsis span:nth-child(2) {\r\n",
       "                animation-delay: .2s;\r\n",
       "            }\r\n",
       "\r\n",
       "            .ellipsis span:nth-child(3) {\r\n",
       "                animation-delay: .4s;\r\n",
       "            }</style><div><h2>Request</h2><hr></hr><h3>POST <a href=\"https://localhost:7220/v1/collected-weather-data/Bristol/mango-27\">https://localhost:7220/v1/collected-weather-data/Bristol/mango-27</a> HTTP/1.1</h3><details><summary>Headers</summary><table><thead><tr><th>Name</th><th>Value</th></tr></thead><tbody><tr><td>X-Request-ID</td><td>676f3fe7-1f5b-45fe-826d-a3242d285aa7</td></tr><tr><td>traceparent</td><td>00-b91475794963d4be854aa91668c51140-1a6ebd215084dc75-00</td></tr><tr><td>Content-Type</td><td>application/json</td></tr><tr><td>Content-Length</td><td>279</td></tr></tbody></table></details><details><summary>Body (application/json; charset=utf-8, 279 bytes)</summary><pre>{\n",
       "    &quot;points&quot;: [\n",
       "        {\n",
       "            &quot;time&quot;: &quot;2025-04-23T21:29:27.0327092Z&quot;,\n",
       "            &quot;windSpeedInMetersPerSecond&quot;: 39.78,\n",
       "            &quot;windDirection&quot;: &quot;N&quot;,\n",
       "            &quot;temperatureReadingInDegreesCelcius&quot;: 0.22,\n",
       "            &quot;humidityReadingInPercent&quot;: 78\n",
       "        }\n",
       "    ]\n",
       "}</pre></details></div><div><h2>Response</h2><hr></hr><h3>HTTP/1.1 200 OK (3503.88 ms)</h3><details open=\"True\"><summary>Headers</summary><table><thead><tr><th>Name</th><th>Value</th></tr></thead><tbody><tr><td>Date</td><td>Wed, 23 Apr 2025 21:29:29 GMT</td></tr><tr><td>Server</td><td>Kestrel</td></tr><tr><td>Transfer-Encoding</td><td>chunked</td></tr><tr><td>Content-Type</td><td>application/json; charset=utf-8</td></tr><tr><td>Content-Length</td><td>75</td></tr></tbody></table></details><details><summary>Body (application/json; charset=utf-8, 75 bytes)</summary><details class=\"dni-treeview\"><summary><span class=\"dni-code-hint\"><code>{&quot;requestId&quot;:&quot;fab410f9-2916-44ce-b642-6c1585ac38ea&quot;,&quot;reference&quot;:&quot;mango-27&quot;}</code></span></summary><div><table><thead><tr></tr></thead><tbody><tr><td>requestId</td><td><span>&quot;fab410f9-2916-44ce-b642-6c1585ac38ea&quot;</span></td></tr><tr><td>reference</td><td><span>&quot;mango-27&quot;</span></td></tr></tbody></table></div></details></details></div></div><style>\r\n",
       ".dni-code-hint {\r\n",
       "    font-style: italic;\r\n",
       "    overflow: hidden;\r\n",
       "    white-space: nowrap;\r\n",
       "}\r\n",
       ".dni-treeview {\r\n",
       "    white-space: nowrap;\r\n",
       "}\r\n",
       ".dni-treeview td {\r\n",
       "    vertical-align: top;\r\n",
       "    text-align: start;\r\n",
       "}\r\n",
       "details.dni-treeview {\r\n",
       "    padding-left: 1em;\r\n",
       "}\r\n",
       "table td {\r\n",
       "    text-align: start;\r\n",
       "}\r\n",
       "table tr { \r\n",
       "    vertical-align: top; \r\n",
       "    margin: 0em 0px;\r\n",
       "}\r\n",
       "table tr td pre \r\n",
       "{ \r\n",
       "    vertical-align: top !important; \r\n",
       "    margin: 0em 0px !important;\r\n",
       "} \r\n",
       "table th {\r\n",
       "    text-align: start;\r\n",
       "}\r\n",
       "</style>"
      ]
     },
     "metadata": {},
     "output_type": "display_data"
    }
   ],
   "source": [
    "#!set --value @csharp:baseUrl --name baseUrl\n",
    "#!set --value @csharp:randomReference --name randomReference\n",
    "\n",
    "POST {{baseUrl}}/v1/collected-weather-data/Bristol/{{randomReference}}\n",
    "Content-Type: application/json\n",
    "x-request-id: {{$guid}}\n",
    "    \n",
    "{\n",
    "    \"points\": [\n",
    "        {\n",
    "            \"time\": \"{{$datetime iso8601}}\",\n",
    "            \"windSpeedInMetersPerSecond\": {{$randomInt 0 69}}.{{$randomInt 0 99}},\n",
    "            \"windDirection\": \"N\",\n",
    "            \"temperatureReadingInDegreesCelcius\": {{$randomInt -15 40}}.{{$randomInt 0 99}},\n",
    "            \"humidityReadingInPercent\": {{$randomInt 20 100}}\n",
    "        }\n",
    "    ]\n",
    "}"
   ]
  },
  {
   "cell_type": "markdown",
   "id": "74673f9a",
   "metadata": {},
   "source": [
    "<div style=\"display:block; height:40rem;\"></div>\n",
    "\n",
    "## GET Traces 🤖"
   ]
  },
  {
   "cell_type": "code",
   "execution_count": 17,
   "id": "2cfb7dd9",
   "metadata": {
    "polyglot_notebook": {
     "kernelName": "csharp"
    },
    "vscode": {
     "languageId": "polyglot-notebook"
    }
   },
   "outputs": [
    {
     "data": {
      "text/html": [
       "<table><thead><tr><th><i>index</i></th><th>value</th></tr></thead><tbody><tr><td>0</td><td><details class=\"dni-treeview\"><summary><span class=\"dni-code-hint\"><code>WeatherApp.EventListener------&gt; Outbox Item Insertion---------&gt; &#128235; outbox id: 20014</code></span></summary><div><table><thead><tr></tr></thead><tbody><tr><td>Resource</td><td><div class=\"dni-plaintext\"><pre>WeatherApp.EventListener</pre></div></td></tr><tr><td>Source</td><td><div class=\"dni-plaintext\"><pre>OutboxRepository</pre></div></td></tr><tr><td>DisplayName</td><td><div class=\"dni-plaintext\"><pre>Outbox Item Insertion</pre></div></td></tr><tr><td>TraceId</td><td><div class=\"dni-plaintext\"><pre>b91475794963d4be854aa91668c51140</pre></div></td></tr><tr><td>SpanId</td><td><div class=\"dni-plaintext\"><pre>9e2d34f0f43279de</pre></div></td></tr><tr><td>Tags</td><td><table><thead><tr><th><i>key</i></th><th>value</th></tr></thead><tbody><tr><td><div class=\"dni-plaintext\"><pre>outbox-item.TypeName</pre></div></td><td><span>&quot;UserNotificationEvent&quot;</span></td></tr><tr><td><div class=\"dni-plaintext\"><pre>outbox-item.Id</pre></div></td><td><span><div class=\"dni-plaintext\"><pre>20014</pre></div></span></td></tr></tbody></table></td></tr></tbody></table></div></details></td></tr><tr><td>1</td><td><details class=\"dni-treeview\"><summary><span class=\"dni-code-hint\"><code>WeatherApp.EventListener------&gt; Domain Event Insertion--------&gt; ModelingDataAccepted</code></span></summary><div><table><thead><tr></tr></thead><tbody><tr><td>Resource</td><td><div class=\"dni-plaintext\"><pre>WeatherApp.EventListener</pre></div></td></tr><tr><td>Source</td><td><div class=\"dni-plaintext\"><pre>EventRepositorySql</pre></div></td></tr><tr><td>DisplayName</td><td><div class=\"dni-plaintext\"><pre>Domain Event Insertion</pre></div></td></tr><tr><td>TraceId</td><td><div class=\"dni-plaintext\"><pre>b91475794963d4be854aa91668c51140</pre></div></td></tr><tr><td>SpanId</td><td><div class=\"dni-plaintext\"><pre>774466cec9dc9c13</pre></div></td></tr><tr><td>Tags</td><td><table><thead><tr><th><i>key</i></th><th>value</th></tr></thead><tbody><tr><td><div class=\"dni-plaintext\"><pre>domain-event.streamId</pre></div></td><td><span>&quot;fab410f9-2916-44ce-b642-6c1585ac38ea&quot;</span></td></tr><tr><td><div class=\"dni-plaintext\"><pre>domain-event.version</pre></div></td><td><span>&quot;5&quot;</span></td></tr><tr><td><div class=\"dni-plaintext\"><pre>domain-event.eventclassName</pre></div></td><td><span>&quot;WeatherApp.Domain.DomainEvents.ModelingDataAccepted&quot;</span></td></tr></tbody></table></td></tr></tbody></table></div></details></td></tr><tr><td>2</td><td><details class=\"dni-treeview\"><summary><span class=\"dni-code-hint\"><code>WeatherApp.API----------------&gt; Domain Event Insertion--------&gt; SubmittedToModeling</code></span></summary><div><table><thead><tr></tr></thead><tbody><tr><td>Resource</td><td><div class=\"dni-plaintext\"><pre>WeatherApp.API</pre></div></td></tr><tr><td>Source</td><td><div class=\"dni-plaintext\"><pre>EventRepositorySql</pre></div></td></tr><tr><td>DisplayName</td><td><div class=\"dni-plaintext\"><pre>Domain Event Insertion</pre></div></td></tr><tr><td>TraceId</td><td><div class=\"dni-plaintext\"><pre>b91475794963d4be854aa91668c51140</pre></div></td></tr><tr><td>SpanId</td><td><div class=\"dni-plaintext\"><pre>e784b1ea01ad7023</pre></div></td></tr><tr><td>Tags</td><td><table><thead><tr><th><i>key</i></th><th>value</th></tr></thead><tbody><tr><td><div class=\"dni-plaintext\"><pre>domain-event.streamId</pre></div></td><td><span>&quot;fab410f9-2916-44ce-b642-6c1585ac38ea&quot;</span></td></tr><tr><td><div class=\"dni-plaintext\"><pre>domain-event.version</pre></div></td><td><span>&quot;4&quot;</span></td></tr><tr><td><div class=\"dni-plaintext\"><pre>domain-event.eventclassName</pre></div></td><td><span>&quot;WeatherApp.Domain.DomainEvents.SubmittedToModeling&quot;</span></td></tr></tbody></table></td></tr></tbody></table></div></details></td></tr><tr><td>3</td><td><details class=\"dni-treeview\"><summary><span class=\"dni-code-hint\"><code>WeatherApp.API----------------&gt; Domain Event Insertion--------&gt; PendingContributorPaymentPosted</code></span></summary><div><table><thead><tr></tr></thead><tbody><tr><td>Resource</td><td><div class=\"dni-plaintext\"><pre>WeatherApp.API</pre></div></td></tr><tr><td>Source</td><td><div class=\"dni-plaintext\"><pre>EventRepositorySql</pre></div></td></tr><tr><td>DisplayName</td><td><div class=\"dni-plaintext\"><pre>Domain Event Insertion</pre></div></td></tr><tr><td>TraceId</td><td><div class=\"dni-plaintext\"><pre>b91475794963d4be854aa91668c51140</pre></div></td></tr><tr><td>SpanId</td><td><div class=\"dni-plaintext\"><pre>8e23cbfb193e591d</pre></div></td></tr><tr><td>Tags</td><td><table><thead><tr><th><i>key</i></th><th>value</th></tr></thead><tbody><tr><td><div class=\"dni-plaintext\"><pre>domain-event.streamId</pre></div></td><td><span>&quot;fab410f9-2916-44ce-b642-6c1585ac38ea&quot;</span></td></tr><tr><td><div class=\"dni-plaintext\"><pre>domain-event.version</pre></div></td><td><span>&quot;3&quot;</span></td></tr><tr><td><div class=\"dni-plaintext\"><pre>domain-event.eventclassName</pre></div></td><td><span>&quot;WeatherApp.Domain.DomainEvents.PendingContributorPaymentPosted&quot;</span></td></tr></tbody></table></td></tr></tbody></table></div></details></td></tr><tr><td>4</td><td><details class=\"dni-treeview\"><summary><span class=\"dni-code-hint\"><code>WeatherApp.API----------------&gt; Domain Event Insertion--------&gt; LocationIdFound</code></span></summary><div><table><thead><tr></tr></thead><tbody><tr><td>Resource</td><td><div class=\"dni-plaintext\"><pre>WeatherApp.API</pre></div></td></tr><tr><td>Source</td><td><div class=\"dni-plaintext\"><pre>EventRepositorySql</pre></div></td></tr><tr><td>DisplayName</td><td><div class=\"dni-plaintext\"><pre>Domain Event Insertion</pre></div></td></tr><tr><td>TraceId</td><td><div class=\"dni-plaintext\"><pre>b91475794963d4be854aa91668c51140</pre></div></td></tr><tr><td>SpanId</td><td><div class=\"dni-plaintext\"><pre>e518168a4eb3d3fd</pre></div></td></tr><tr><td>Tags</td><td><table><thead><tr><th><i>key</i></th><th>value</th></tr></thead><tbody><tr><td><div class=\"dni-plaintext\"><pre>domain-event.streamId</pre></div></td><td><span>&quot;fab410f9-2916-44ce-b642-6c1585ac38ea&quot;</span></td></tr><tr><td><div class=\"dni-plaintext\"><pre>domain-event.version</pre></div></td><td><span>&quot;2&quot;</span></td></tr><tr><td><div class=\"dni-plaintext\"><pre>domain-event.eventclassName</pre></div></td><td><span>&quot;WeatherApp.Domain.DomainEvents.LocationIdFound&quot;</span></td></tr></tbody></table></td></tr></tbody></table></div></details></td></tr><tr><td>5</td><td><details class=\"dni-treeview\"><summary><span class=\"dni-code-hint\"><code>NotificationService-----------&gt; User Notication Sent----------&gt; ✉️ reference: mango-27</code></span></summary><div><table><thead><tr></tr></thead><tbody><tr><td>Resource</td><td><div class=\"dni-plaintext\"><pre>NotificationService</pre></div></td></tr><tr><td>Source</td><td><div class=\"dni-plaintext\"><pre>UserNotificationEventHandler</pre></div></td></tr><tr><td>DisplayName</td><td><div class=\"dni-plaintext\"><pre>User Notication Sent</pre></div></td></tr><tr><td>TraceId</td><td><div class=\"dni-plaintext\"><pre>b91475794963d4be854aa91668c51140</pre></div></td></tr><tr><td>SpanId</td><td><div class=\"dni-plaintext\"><pre>99164a1d3abd6281</pre></div></td></tr><tr><td>Tags</td><td><table><thead><tr><th><i>key</i></th><th>value</th></tr></thead><tbody><tr><td><div class=\"dni-plaintext\"><pre>user-notification-event.body</pre></div></td><td><span>&quot;Dear user, your data has been submitted and included in our latest model&quot;</span></td></tr><tr><td><div class=\"dni-plaintext\"><pre>user-notification-event.reference</pre></div></td><td><span>&quot;mango-27&quot;</span></td></tr><tr><td><div class=\"dni-plaintext\"><pre>user-notification-event.timestamp</pre></div></td><td><span>&quot;2025-04-23T21:29:33.5882056+00:00&quot;</span></td></tr></tbody></table></td></tr></tbody></table></div></details></td></tr><tr><td>6</td><td><details class=\"dni-treeview\"><summary><span class=\"dni-code-hint\"><code>WeatherApp.EventListener------&gt; Domain Event Insertion--------&gt; ModelUpdated</code></span></summary><div><table><thead><tr></tr></thead><tbody><tr><td>Resource</td><td><div class=\"dni-plaintext\"><pre>WeatherApp.EventListener</pre></div></td></tr><tr><td>Source</td><td><div class=\"dni-plaintext\"><pre>EventRepositorySql</pre></div></td></tr><tr><td>DisplayName</td><td><div class=\"dni-plaintext\"><pre>Domain Event Insertion</pre></div></td></tr><tr><td>TraceId</td><td><div class=\"dni-plaintext\"><pre>b91475794963d4be854aa91668c51140</pre></div></td></tr><tr><td>SpanId</td><td><div class=\"dni-plaintext\"><pre>c5faeb82c5c691a8</pre></div></td></tr><tr><td>Tags</td><td><table><thead><tr><th><i>key</i></th><th>value</th></tr></thead><tbody><tr><td><div class=\"dni-plaintext\"><pre>domain-event.streamId</pre></div></td><td><span>&quot;fab410f9-2916-44ce-b642-6c1585ac38ea&quot;</span></td></tr><tr><td><div class=\"dni-plaintext\"><pre>domain-event.version</pre></div></td><td><span>&quot;8&quot;</span></td></tr><tr><td><div class=\"dni-plaintext\"><pre>domain-event.eventclassName</pre></div></td><td><span>&quot;WeatherApp.Domain.DomainEvents.ModelUpdated&quot;</span></td></tr></tbody></table></td></tr></tbody></table></div></details></td></tr><tr><td>7</td><td><details class=\"dni-treeview\"><summary><span class=\"dni-code-hint\"><code>WeatherApp.EventListener------&gt; Domain Event Insertion--------&gt; SubmissionComplete</code></span></summary><div><table><thead><tr></tr></thead><tbody><tr><td>Resource</td><td><div class=\"dni-plaintext\"><pre>WeatherApp.EventListener</pre></div></td></tr><tr><td>Source</td><td><div class=\"dni-plaintext\"><pre>EventRepositorySql</pre></div></td></tr><tr><td>DisplayName</td><td><div class=\"dni-plaintext\"><pre>Domain Event Insertion</pre></div></td></tr><tr><td>TraceId</td><td><div class=\"dni-plaintext\"><pre>b91475794963d4be854aa91668c51140</pre></div></td></tr><tr><td>SpanId</td><td><div class=\"dni-plaintext\"><pre>d104eb2dc5848626</pre></div></td></tr><tr><td>Tags</td><td><table><thead><tr><th><i>key</i></th><th>value</th></tr></thead><tbody><tr><td><div class=\"dni-plaintext\"><pre>domain-event.streamId</pre></div></td><td><span>&quot;fab410f9-2916-44ce-b642-6c1585ac38ea&quot;</span></td></tr><tr><td><div class=\"dni-plaintext\"><pre>domain-event.version</pre></div></td><td><span>&quot;7&quot;</span></td></tr><tr><td><div class=\"dni-plaintext\"><pre>domain-event.eventclassName</pre></div></td><td><span>&quot;WeatherApp.Domain.DomainEvents.SubmissionComplete&quot;</span></td></tr></tbody></table></td></tr></tbody></table></div></details></td></tr><tr><td>8</td><td><details class=\"dni-treeview\"><summary><span class=\"dni-code-hint\"><code>WeatherApp.EventListener------&gt; Domain Event Insertion--------&gt; PendingContributorPaymentCommitted</code></span></summary><div><table><thead><tr></tr></thead><tbody><tr><td>Resource</td><td><div class=\"dni-plaintext\"><pre>WeatherApp.EventListener</pre></div></td></tr><tr><td>Source</td><td><div class=\"dni-plaintext\"><pre>EventRepositorySql</pre></div></td></tr><tr><td>DisplayName</td><td><div class=\"dni-plaintext\"><pre>Domain Event Insertion</pre></div></td></tr><tr><td>TraceId</td><td><div class=\"dni-plaintext\"><pre>b91475794963d4be854aa91668c51140</pre></div></td></tr><tr><td>SpanId</td><td><div class=\"dni-plaintext\"><pre>3d2d1564db98c3cd</pre></div></td></tr><tr><td>Tags</td><td><table><thead><tr><th><i>key</i></th><th>value</th></tr></thead><tbody><tr><td><div class=\"dni-plaintext\"><pre>domain-event.streamId</pre></div></td><td><span>&quot;fab410f9-2916-44ce-b642-6c1585ac38ea&quot;</span></td></tr><tr><td><div class=\"dni-plaintext\"><pre>domain-event.version</pre></div></td><td><span>&quot;6&quot;</span></td></tr><tr><td><div class=\"dni-plaintext\"><pre>domain-event.eventclassName</pre></div></td><td><span>&quot;WeatherApp.Domain.DomainEvents.PendingContributorPaymentCommitted&quot;</span></td></tr></tbody></table></td></tr></tbody></table></div></details></td></tr><tr><td>9</td><td><details class=\"dni-treeview\"><summary><span class=\"dni-code-hint\"><code>WeatherApp.API----------------&gt; Domain Event Insertion--------&gt; WeatherDataCollectionInitiated</code></span></summary><div><table><thead><tr></tr></thead><tbody><tr><td>Resource</td><td><div class=\"dni-plaintext\"><pre>WeatherApp.API</pre></div></td></tr><tr><td>Source</td><td><div class=\"dni-plaintext\"><pre>EventRepositorySql</pre></div></td></tr><tr><td>DisplayName</td><td><div class=\"dni-plaintext\"><pre>Domain Event Insertion</pre></div></td></tr><tr><td>TraceId</td><td><div class=\"dni-plaintext\"><pre>b91475794963d4be854aa91668c51140</pre></div></td></tr><tr><td>SpanId</td><td><div class=\"dni-plaintext\"><pre>cc64ceadef41a800</pre></div></td></tr><tr><td>Tags</td><td><table><thead><tr><th><i>key</i></th><th>value</th></tr></thead><tbody><tr><td><div class=\"dni-plaintext\"><pre>domain-event.streamId</pre></div></td><td><span>&quot;fab410f9-2916-44ce-b642-6c1585ac38ea&quot;</span></td></tr><tr><td><div class=\"dni-plaintext\"><pre>domain-event.version</pre></div></td><td><span>&quot;1&quot;</span></td></tr><tr><td><div class=\"dni-plaintext\"><pre>domain-event.eventclassName</pre></div></td><td><span>&quot;WeatherApp.Domain.DomainEvents.WeatherDataCollectionInitiated&quot;</span></td></tr></tbody></table></td></tr></tbody></table></div></details></td></tr></tbody></table><style>\r\n",
       ".dni-code-hint {\r\n",
       "    font-style: italic;\r\n",
       "    overflow: hidden;\r\n",
       "    white-space: nowrap;\r\n",
       "}\r\n",
       ".dni-treeview {\r\n",
       "    white-space: nowrap;\r\n",
       "}\r\n",
       ".dni-treeview td {\r\n",
       "    vertical-align: top;\r\n",
       "    text-align: start;\r\n",
       "}\r\n",
       "details.dni-treeview {\r\n",
       "    padding-left: 1em;\r\n",
       "}\r\n",
       "table td {\r\n",
       "    text-align: start;\r\n",
       "}\r\n",
       "table tr { \r\n",
       "    vertical-align: top; \r\n",
       "    margin: 0em 0px;\r\n",
       "}\r\n",
       "table tr td pre \r\n",
       "{ \r\n",
       "    vertical-align: top !important; \r\n",
       "    margin: 0em 0px !important;\r\n",
       "} \r\n",
       "table th {\r\n",
       "    text-align: start;\r\n",
       "}\r\n",
       "</style>"
      ]
     },
     "metadata": {},
     "output_type": "display_data"
    }
   ],
   "source": [
    "using System.Net.Http;\n",
    "using System.Text.Json;\n",
    "\n",
    "public class TraceData\n",
    "{\n",
    "    public string Resource { get; set; } = string.Empty;\n",
    "    public string Source { get; set; } = string.Empty;\n",
    "    public string DisplayName { get; set; } = string.Empty;\n",
    "    public string TraceId { get; set; } = string.Empty;\n",
    "    public string SpanId { get; set; } = string.Empty;    \n",
    "    public Dictionary<string, object> Tags { get; set; } = new();\n",
    "\n",
    "    public override string ToString()\n",
    "    {\n",
    "        var thirdPart = string.Empty;\n",
    "        if(DisplayName == \"Domain Event Insertion\")\n",
    "            thirdPart = Tags[\"domain-event.eventclassName\"].ToString().Split('.').LastOrDefault();\n",
    "\n",
    "        if(DisplayName == \"User Notication Sent\")\n",
    "            thirdPart = $\"✉️ reference: {Tags[\"user-notification-event.reference\"].ToString()}\";\n",
    "\n",
    "        if(DisplayName == \"Outbox Item Insertion\")\n",
    "            thirdPart = $\"📫 outbox id: {Tags[\"outbox-item.Id\"].ToString()}\";\n",
    "        \n",
    "            \n",
    "        \n",
    "        return $\"{Resource.PadRight(30, '-')}> {DisplayName.PadRight(30, '-')}> {thirdPart}\";\n",
    "    } \n",
    "        \n",
    "}\n",
    "\n",
    "var client = new HttpClient() { BaseAddress = new Uri(\"https://localhost:7059\") };\n",
    "var response = await client.GetAsync(\"traces\");\n",
    "var responseJson = await response.Content.ReadAsStringAsync();\n",
    "JsonSerializer.Deserialize<TraceData[]>(responseJson, JsonSerializerOptions.Web ).Display();"
   ]
  }
 ],
 "metadata": {
  "kernelspec": {
   "display_name": ".NET (C#)",
   "language": "C#",
   "name": ".net-csharp"
  },
  "language_info": {
   "name": "python"
  },
  "polyglot_notebook": {
   "kernelInfo": {
    "defaultKernelName": "csharp",
    "items": [
     {
      "aliases": [],
      "name": "csharp"
     }
    ]
   }
  }
 },
 "nbformat": 4,
 "nbformat_minor": 5
}
