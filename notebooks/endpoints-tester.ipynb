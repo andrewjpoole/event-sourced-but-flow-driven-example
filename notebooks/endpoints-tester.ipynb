{
 "cells": [
  {
   "cell_type": "markdown",
   "id": "0a36b4a0",
   "metadata": {},
   "source": [
    "# Send REST requests to the WeatherApp.API running in Aspire"
   ]
  },
  {
   "cell_type": "code",
   "execution_count": 1,
   "id": "9131d2f5",
   "metadata": {
    "polyglot_notebook": {
     "kernelName": "csharp"
    }
   },
   "outputs": [],
   "source": [
    "// First set the base url.\n",
    "var baseUrl = \"https://localhost:7220\";"
   ]
  },
  {
   "cell_type": "markdown",
   "id": "7f18c130",
   "metadata": {},
   "source": [
    "## Healthcheck 💉"
   ]
  },
  {
   "cell_type": "code",
   "execution_count": null,
   "id": "5077ae89",
   "metadata": {
    "polyglot_notebook": {
     "kernelName": "http"
    }
   },
   "outputs": [],
   "source": [
    "#!set --value @csharp:baseUrl --name baseUrl\n",
    "GET {{baseUrl}}/"
   ]
  },
  {
   "cell_type": "markdown",
   "id": "3c4fd13d",
   "metadata": {},
   "source": [
    "## GET Weather Forecast 🌦️🌈🔆"
   ]
  },
  {
   "cell_type": "code",
   "execution_count": null,
   "id": "e9bb46e8",
   "metadata": {
    "polyglot_notebook": {
     "kernelName": "http"
    }
   },
   "outputs": [],
   "source": [
    "#!set --value @csharp:baseUrl --name baseUrl\n",
    "GET {{baseUrl}}/v1/weather-forecast/Bristol/{{$datetime iso8601}}"
   ]
  },
  {
   "cell_type": "markdown",
   "id": "fde38926",
   "metadata": {},
   "source": [
    "## POST Colected Weather Data 🌡️☔💨"
   ]
  },
  {
   "cell_type": "code",
   "execution_count": 4,
   "id": "840e5c03",
   "metadata": {
    "polyglot_notebook": {
     "kernelName": "csharp"
    }
   },
   "outputs": [
    {
     "data": {
      "text/plain": [
       "cherry-28"
      ]
     },
     "metadata": {},
     "output_type": "display_data"
    }
   ],
   "source": [
    "// Generate a random reference...\n",
    "string[] fruits = [\"apple\", \"banana\", \"cherry\", \"date\", \"elderberry\", \"fig\", \"grape\", \"honeydew\", \"kiwi\", \"lemon\", \"mango\", \"nectarine\", \"orange\", \"papaya\", \"quince\", \"raspberry\", \"strawberry\", \"tangerine\", \"watermelon\", \"guava\"];\n",
    "var randomReference = $\"{fruits[new Random().Next(fruits.Length)]}-{Random.Shared.Next(10, 99)}\";\n",
    "randomReference.Display();"
   ]
  },
  {
   "cell_type": "code",
   "execution_count": 5,
   "id": "101e0570",
   "metadata": {
    "polyglot_notebook": {
     "kernelName": "http"
    }
   },
   "outputs": [
    {
     "data": {
      "text/html": [
       "<div class=\"http-response-message-container\"><style type=\"text/css\">\r\n",
       "            .http-response-message-container {\r\n",
       "                display: flex;\r\n",
       "                flex-wrap: wrap;\r\n",
       "            }\r\n",
       "\r\n",
       "            .http-response-message-container > div {\r\n",
       "                margin: .5em;\r\n",
       "                padding: 1em;\r\n",
       "                border: 1px solid;\r\n",
       "            }\r\n",
       "\r\n",
       "            .http-response-message-container > div > h2 {\r\n",
       "                margin-top: 0;\r\n",
       "            }\r\n",
       "\r\n",
       "            .http-response-message-container > div > h3 {\r\n",
       "                margin-bottom: 0;\r\n",
       "            }\r\n",
       "\r\n",
       "            .http-response-message-container summary {\r\n",
       "                margin: 1em 0;\r\n",
       "                font-size: 1.17em;\r\n",
       "                font-weight: 700;\r\n",
       "            }\r\n",
       "\r\n",
       "            @keyframes blink {\r\n",
       "                0% {\r\n",
       "                  opacity: .2;\r\n",
       "                }\r\n",
       "                20% {\r\n",
       "                  opacity: 1;\r\n",
       "                }\r\n",
       "                100% {\r\n",
       "                  opacity: .2;\r\n",
       "                }\r\n",
       "            }\r\n",
       "\r\n",
       "            .ellipsis span {\r\n",
       "                animation-name: blink;\r\n",
       "                animation-duration: 1.4s;\r\n",
       "                animation-iteration-count: infinite;\r\n",
       "                animation-fill-mode: both;\r\n",
       "            }\r\n",
       "\r\n",
       "            .ellipsis span:nth-child(2) {\r\n",
       "                animation-delay: .2s;\r\n",
       "            }\r\n",
       "\r\n",
       "            .ellipsis span:nth-child(3) {\r\n",
       "                animation-delay: .4s;\r\n",
       "            }</style><div><h2>Request</h2><hr></hr><h3>POST <a href=\"https://localhost:7220/v1/collected-weather-data/Bristol/cherry-28\">https://localhost:7220/v1/collected-weather-data/Bristol/cherry-28</a> HTTP/1.1</h3><details><summary>Headers</summary><table><thead><tr><th>Name</th><th>Value</th></tr></thead><tbody><tr><td>X-Request-ID</td><td>afaaecce-09a1-42dc-9f5a-c42d1ae3137a</td></tr><tr><td>traceparent</td><td>00-dbcba72f4b29fe39335e15401ac47f1c-a04c6e250926d5e3-00</td></tr><tr><td>Content-Type</td><td>application/json</td></tr><tr><td>Content-Length</td><td>279</td></tr></tbody></table></details><details><summary>Body (application/json; charset=utf-8, 279 bytes)</summary><pre>{\n",
       "    &quot;points&quot;: [\n",
       "        {\n",
       "            &quot;time&quot;: &quot;2025-09-09T18:16:40.2423428Z&quot;,\n",
       "            &quot;windSpeedInMetersPerSecond&quot;: 61.80,\n",
       "            &quot;windDirection&quot;: &quot;N&quot;,\n",
       "            &quot;temperatureReadingInDegreesCelcius&quot;: 22.8,\n",
       "            &quot;humidityReadingInPercent&quot;: 99\n",
       "        }\n",
       "    ]\n",
       "}</pre></details></div><div><h2>Response</h2><hr></hr><h3>HTTP/1.1 200 OK (3226.51 ms)</h3><details open=\"True\"><summary>Headers</summary><table><thead><tr><th>Name</th><th>Value</th></tr></thead><tbody><tr><td>Date</td><td>Tue, 09 Sep 2025 18:16:43 GMT</td></tr><tr><td>Server</td><td>Kestrel</td></tr><tr><td>Transfer-Encoding</td><td>chunked</td></tr><tr><td>Content-Type</td><td>application/json; charset=utf-8</td></tr><tr><td>Content-Length</td><td>76</td></tr></tbody></table></details><details><summary>Body (application/json; charset=utf-8, 76 bytes)</summary><details class=\"dni-treeview\"><summary><span class=\"dni-code-hint\"><code>{&quot;requestId&quot;:&quot;37f266c7-dc1d-46ba-a5d0-798abb32538e&quot;,&quot;reference&quot;:&quot;cherry-28&quot;}</code></span></summary><div><table><thead><tr></tr></thead><tbody><tr><td>requestId</td><td><span>&quot;37f266c7-dc1d-46ba-a5d0-798abb32538e&quot;</span></td></tr><tr><td>reference</td><td><span>&quot;cherry-28&quot;</span></td></tr></tbody></table></div></details></details></div></div><style>\r\n",
       ".dni-code-hint {\r\n",
       "    font-style: italic;\r\n",
       "    overflow: hidden;\r\n",
       "    white-space: nowrap;\r\n",
       "}\r\n",
       ".dni-treeview {\r\n",
       "    white-space: nowrap;\r\n",
       "}\r\n",
       ".dni-treeview td {\r\n",
       "    vertical-align: top;\r\n",
       "    text-align: start;\r\n",
       "}\r\n",
       "details.dni-treeview {\r\n",
       "    padding-left: 1em;\r\n",
       "}\r\n",
       "table td {\r\n",
       "    text-align: start;\r\n",
       "}\r\n",
       "table tr { \r\n",
       "    vertical-align: top; \r\n",
       "    margin: 0em 0px;\r\n",
       "}\r\n",
       "table tr td pre \r\n",
       "{ \r\n",
       "    vertical-align: top !important; \r\n",
       "    margin: 0em 0px !important;\r\n",
       "} \r\n",
       "table th {\r\n",
       "    text-align: start;\r\n",
       "}\r\n",
       "</style>"
      ]
     },
     "metadata": {},
     "output_type": "display_data"
    }
   ],
   "source": [
    "#!set --value @csharp:baseUrl --name baseUrl\n",
    "#!set --value @csharp:randomReference --name randomReference\n",
    "\n",
    "POST {{baseUrl}}/v1/collected-weather-data/Bristol/{{randomReference}}\n",
    "Content-Type: application/json\n",
    "x-request-id: {{$guid}}\n",
    "    \n",
    "{\n",
    "    \"points\": [\n",
    "        {\n",
    "            \"time\": \"{{$datetime iso8601}}\",\n",
    "            \"windSpeedInMetersPerSecond\": {{$randomInt 0 69}}.{{$randomInt 0 99}},\n",
    "            \"windDirection\": \"N\",\n",
    "            \"temperatureReadingInDegreesCelcius\": {{$randomInt -15 40}}.{{$randomInt 0 99}},\n",
    "            \"humidityReadingInPercent\": {{$randomInt 20 100}}\n",
    "        }\n",
    "    ]\n",
    "}"
   ]
  },
  {
   "cell_type": "markdown",
   "id": "74673f9a",
   "metadata": {},
   "source": [
    "<div style=\"display:block; height:10rem;\"></div>\n",
    "\n",
    "## GET Traces 🤖"
   ]
  },
  {
   "cell_type": "code",
   "execution_count": null,
   "id": "2cfb7dd9",
   "metadata": {
    "polyglot_notebook": {
     "kernelName": "csharp"
    }
   },
   "outputs": [],
   "source": [
    "// Get traces and format nicely\n",
    "using System.Net.Http;\n",
    "using System.Text.Json;\n",
    "\n",
    "public class TraceData\n",
    "{\n",
    "    public string Resource { get; set; } = string.Empty;\n",
    "    public string Source { get; set; } = string.Empty;\n",
    "    public string DisplayName { get; set; } = string.Empty;\n",
    "    public string TraceId { get; set; } = string.Empty;\n",
    "    public string SpanId { get; set; } = string.Empty;    \n",
    "    public Dictionary<string, object> Tags { get; set; } = new();\n",
    "\n",
    "    public override string ToString()\n",
    "    {\n",
    "        var thirdPart = string.Empty;\n",
    "        if(DisplayName == \"Domain Event Insertion\")\n",
    "            thirdPart = Tags[\"domain-event.eventclassName\"].ToString().Split('.').LastOrDefault();\n",
    "\n",
    "        if(DisplayName == \"User Notification Sent\")\n",
    "            thirdPart = $\"✉️ reference: {Tags[\"user-notification-event.reference\"].ToString()}\";\n",
    "\n",
    "        if(DisplayName == \"Outbox Item Insertion\")\n",
    "            thirdPart = $\"📫 outbox id: {Tags[\"outbox-item.Id\"].ToString()}\";\n",
    "                   \n",
    "        return $\"{Resource.PadRight(30, '-')}> {DisplayName.PadRight(30, '-')}> {thirdPart}\";\n",
    "    } \n",
    "        \n",
    "}\n",
    "\n",
    "var client = new HttpClient() { BaseAddress = new Uri(\"http://localhost:8000\"), DefaultRequestHeaders = { { \"X-Api-Key\", \"11119999\" } } };\n",
    "var response = await client.GetAsync(\"traces\");\n",
    "var responseJson = await response.Content.ReadAsStringAsync();\n",
    "JsonSerializer.Deserialize<TraceData[]>(responseJson, JsonSerializerOptions.Web ).Display();"
   ]
  }
 ],
 "metadata": {
  "kernelspec": {
   "display_name": ".NET (C#)",
   "language": "C#",
   "name": ".net-csharp"
  },
  "language_info": {
   "name": "polyglot-notebook"
  },
  "polyglot_notebook": {
   "kernelInfo": {
    "defaultKernelName": "csharp",
    "items": [
     {
      "aliases": [],
      "name": "csharp"
     }
    ]
   }
  }
 },
 "nbformat": 4,
 "nbformat_minor": 5
}
