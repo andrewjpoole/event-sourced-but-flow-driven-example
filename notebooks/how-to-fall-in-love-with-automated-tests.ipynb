{
 "cells": [
  {
   "cell_type": "code",
   "execution_count": 2,
   "metadata": {
    "polyglot_notebook": {
     "kernelName": "csharp"
    },
    "vscode": {
     "languageId": "polyglot-notebook"
    }
   },
   "outputs": [
    {
     "data": {
      "text/html": [
       "<div><div></div><div></div><div><strong>Installed Packages</strong><ul><li><span>sequential-reveal-md-tool, 1.1.1</span></li></ul></div></div>"
      ]
     },
     "metadata": {},
     "output_type": "display_data"
    }
   ],
   "source": [
    "// setup\n",
    "#r \"nuget:sequential-reveal-md-tool\"\n",
    "\n",
    "using sequential_reveal_md_tool;\n",
    "\n",
    "var notebookFileName = \"how-to-fall-in-love-with-automated-tests.ipynb\";\n",
    "var styleString = \"<link rel=\\\"stylesheet\\\" href=\\\"styles.css\\\">\\n\";\n",
    "var notebook = Notebook.FromFile(notebookFileName);"
   ]
  },
  {
   "cell_type": "markdown",
   "metadata": {},
   "source": [
    "<link rel=\"stylesheet\" href=\"styles.css\">\n",
    "\n",
    "<div style=\"position: relative; width: 100%; height: 500px; overflow: hidden;\">\n",
    "  <img src=\"./media/pawel-czerwinski-VWVO0g9A3rg-unsplash.jpg\" alt=\"Page Break\" style=\"width: 100%; height: auto;\">\n",
    "  <div style=\"\n",
    "    position: absolute;\n",
    "    top: 0;\n",
    "    left: 0;\n",
    "    width: 100%;\n",
    "    height: 100%;\n",
    "    background: linear-gradient(to bottom, rgba(0, 0, 0, 0) 60%, #1F1F1F 100%);\n",
    "    pointer-events: none;\">\n",
    "  </div>\n",
    "</div>\n",
    "\n",
    "# How to fall in love with automated tests! 😍\n",
    "\n",
    "<div class=\"standardCellBottomSpace\"></div>"
   ]
  },
  {
   "cell_type": "markdown",
   "metadata": {},
   "source": [
    "<link rel=\"stylesheet\" href=\"styles.css\">\n",
    "\n",
    "# E-2-e Component Tests\n",
    "\n",
    "### How to get the maximum mileage from a minimal number of tests🚀\n",
    "\n",
    "# ...\n",
    "\n",
    "# Integration Tests\n",
    "\n",
    "### how _not_ to hate them! ❤️\n",
    "\n",
    "<div style=\"display:block; height: 30rem;\"></div>"
   ]
  },
  {
   "cell_type": "markdown",
   "metadata": {},
   "source": [
    "<link rel=\"stylesheet\" href=\"styles.css\">\n",
    "\n",
    "# Let’s start with a scenario…\n",
    "\n",
    "animated diagram here?\n",
    "\n",
    "<div style=\"display:block; height: 30rem;\"></div>"
   ]
  },
  {
   "cell_type": "markdown",
   "metadata": {},
   "source": [
    "<!-- End-to-end Component Tests - What? -->\n",
    "<link rel=\"stylesheet\" href=\"styles.css\">\n",
    "\n",
    "# End-to-end Component Tests - What?\n",
    "\n",
    "## Caveat: opinions - none are right or wrong!!\n",
    "\n",
    "- Unit is as large as possible - multiple executables!\n",
    "- Consolidation (one project for multiple components)\n",
    "- Test as much of the surface area as possible\n",
    "\n",
    "trophy diagram\n",
    "\n",
    "<div style=\"display:block; height: 30rem;\"></div>\n"
   ]
  },
  {
   "cell_type": "code",
   "execution_count": 9,
   "metadata": {
    "polyglot_notebook": {
     "kernelName": "csharp"
    },
    "vscode": {
     "languageId": "polyglot-notebook"
    }
   },
   "outputs": [
    {
     "data": {
      "text/markdown": [
       "<!-- End-to-end Component Tests - What? -->\n",
       "\r\n",
       "<link rel=\"stylesheet\" href=\"styles.css\">\n",
       "\r\n",
       "# End-to-end Component Tests - What?\n",
       "\r\n"
      ]
     },
     "metadata": {},
     "output_type": "display_data"
    }
   ],
   "source": [
    "//Notebook.FromFile(\"how-to-fall-in-love-with-automated-tests.ipynb\").DisplayNextSequentialSectionFromPrecedingMarkdownCellUsingStyleString(\"sr1\", \"<link rel=\\\"stylesheet\\\" href=\\\"styles.css\\\">\\n\");\n",
    "Notebook.FromFile(notebookFileName).DisplayNextSequentialSectionFromPrecedingMarkdownCell(\"sr1\");"
   ]
  },
  {
   "cell_type": "markdown",
   "metadata": {},
   "source": [
    "<link rel=\"stylesheet\" href=\"styles.css\">\n",
    "\n",
    "# End-to-end Component Tests - Why?\n",
    "\n",
    "- Test the behaviour not the impl\n",
    "- Blackbox, refactor away😁\n",
    "- Almost as good as running locally\n",
    "- Writing tests is _not_ fun, building a test framework _can_ be fun!\n",
    "\n",
    "<div style=\"display:block; height: 30rem;\"></div>\n"
   ]
  },
  {
   "cell_type": "markdown",
   "metadata": {},
   "source": [
    "<link rel=\"stylesheet\" href=\"styles.css\">\n",
    "\n",
    "# How? #1 Make a nice framework😊\n",
    "\n",
    "## Given, When & Then or Arrange, Act & Assert etc...\n",
    "\n",
    "```csharp\n",
    "[Fact]\n",
    "public void Return_a_WeatherReport_given_valid_region_and_date()\n",
    "{\n",
    "    var (given, when, then) = testFixture.SetupHelpers();\n",
    "\n",
    "    given.WeHaveAWeatherReportRequest(\"bristol\", DateTime.Now, out var apiRequest)\n",
    "        .And.TheServersAreStarted();\n",
    "\n",
    "    when.WeSendTheMessageToTheApi(apiRequest, out var response);\n",
    "\n",
    "    then.TheResponseCodeShouldBe(response, HttpStatusCode.OK)\n",
    "        .And.TheBodyShouldNotBeEmpty<WeatherReportResponse>(response, \n",
    "            x => x.Summary.Should().NotBeEmpty());\n",
    "}\n",
    "```\n",
    "\n",
    "<div style=\"display:block; height: 30rem;\"></div>"
   ]
  },
  {
   "cell_type": "markdown",
   "metadata": {},
   "source": [
    "<link rel=\"stylesheet\" href=\"styles.css\">\n",
    "\n",
    "# How? #2 Create a test host factory for each executable app\n",
    "\n",
    "## Microsoft.AspNetCore.Mvc.Testing package\n",
    "\n",
    "```csharp\n",
    "public class ApiWebApplicationFactory : WebApplicationFactory<API.Program>\n",
    "{\n",
    "    public HttpClient? HttpClient;\n",
    "\n",
    "    public readonly Mock<ILogger> MockLogger = new();\n",
    "    public readonly Mock<HttpMessageHandler> MockWeatherModelingServiceHttpMessageHandler = new();\n",
    "\n",
    "    public Func<EventRepositoryInMemory>? SetSharedEventRepository = null;\n",
    "\n",
    "    // Using CreateHost here instead of ConfigureWebHost because CreateHost adds config just after \n",
    "    // WebApplication.CreateBuilder(args) is called\n",
    "    // whereas ConfigureWebHost is called too late just before builder.Build() is called.\n",
    "    protected override IHost CreateHost(IHostBuilder builder)\n",
    "    {\n",
    "        Environment.SetEnvironmentVariable(\"WeatherModelingServiceOptions__BaseUrl\", Constants.WeatherModelingServiceBaseUrl);\n",
    "        Environment.SetEnvironmentVariable(\"WeatherModelingServiceOptions__MaxRetryCount\", \"3\");\n",
    "\n",
    "        builder\n",
    "            .ConfigureServices(services =>\n",
    "            {\n",
    "                var loggerFactory = new Mock<ILoggerFactory>();\n",
    "                loggerFactory.Setup(x => x.CreateLogger(It.IsAny<string>())).Returns(MockLogger.Object);\n",
    "                services.AddSingleton(loggerFactory.Object);\n",
    "\n",
    "                services.AddHttpClient(typeof(IWeatherModelingServiceClient).FullName!, client => client.BaseAddress = \n",
    "                    new Uri(Constants.WeatherModelingServiceBaseUrl))\n",
    "                        .ConfigurePrimaryHttpMessageHandler(() => MockWeatherModelingServiceHttpMessageHandler.Object);\n",
    "                    \n",
    "```\n",
    "\n",
    "<div style=\"display:block; height: 30rem;\"></div>"
   ]
  },
  {
   "cell_type": "markdown",
   "metadata": {},
   "source": [
    "<link rel=\"stylesheet\" href=\"styles.css\">\n",
    "\n",
    "# How? #3 Single Test Fixture\n",
    "\n",
    "```csharp\n",
    "public class ComponentTestFixture : IDisposable\n",
    "{\n",
    "    private string phase = \"\";\n",
    "\n",
    "    public readonly ApiWebApplicationFactory ApiFactory;\n",
    "    public readonly EventListenerWebApplicationFactory EventListenerFactory;\n",
    "    public readonly NotificationServiceWebApplicationFactory NotificationServiceFactory;\n",
    "    \n",
    "    public readonly MockServiceBus MockServiceBus;\n",
    "\n",
    "    public EventRepositoryInMemory EventRepositoryInMemory = new();\n",
    "\n",
    "    public ComponentTestFixture()\n",
    "    {\n",
    "        ApiFactory = new() { SetSharedEventRepository = () => EventRepositoryInMemory };\n",
    "        EventListenerFactory = new(this) { SetSharedEventRepository = () => EventRepositoryInMemory };\n",
    "        NotificationServiceFactory = new();\n",
    "\n",
    "        MockServiceBus = new MockServiceBus();\n",
    "        MockServiceBus.AddSenderFor<DummyIntegrationEvent>();\n",
    "        MockServiceBus.AddProcessorFor<ModelingDataAcceptedIntegrationEvent>();\n",
    "        MockServiceBus.AddProcessorFor<ModelingDataRejectedIntegrationEvent>();\n",
    "        MockServiceBus.AddProcessorFor<ModelUpdatedIntegrationEvent>();\n",
    "    }\n",
    "\n",
    "    public void Dispose()...\n",
    "\n",
    "    public (Given given, When when, Then then) SetupHelpers()\n",
    "    {\n",
    "        return (new Given(this), new When(this), new Then(this));\n",
    "    }\n",
    "\n",
    "    public void SetPhase(string newPhase) => phase = newPhase;\n",
    "    public string CurrentPhase => string.IsNullOrWhiteSpace(phase) ? string.Empty : $\"In phase {phase}, \";\n",
    "}\n",
    "```\n",
    "\n",
    "<div style=\"display:block; height: 30rem;\"></div>"
   ]
  },
  {
   "cell_type": "markdown",
   "metadata": {},
   "source": [
    "<link rel=\"stylesheet\" href=\"styles.css\">\n",
    "\n",
    "# How? #4 Testable Service Bus Processor😎\n",
    "\n",
    "```csharp\n",
    "public class TestableServiceBusProcessor(string dummyQueueName) : ServiceBusProcessor\n",
    "{\n",
    "    public string DummyQueueName { get; } = dummyQueueName;\n",
    "    public List<TestableProcessMessageEventArgs> MessageDeliveryAttempts = [];\n",
    "```\n",
    "---\n",
    "⬇️\n",
    "\n",
    "```csharp\n",
    "    public override Task StartProcessingAsync(CancellationToken cancellationToken = default)\n",
    "    {\n",
    "        return Task.CompletedTask;\n",
    "    }\n",
    "```\n",
    "---\n",
    "⬇️\n",
    "\n",
    "```csharp\n",
    "    public async Task SendMessage<T>(\n",
    "        T request, int deliveryCount = 1, Dictionary<string, object>? applicationProperties = null) \n",
    "        where T : class\n",
    "    {\n",
    "        var args = CreateMessageArgs(request, deliveryCount, applicationProperties);\n",
    "        MessageDeliveryAttempts.Add((TestableProcessMessageEventArgs)args);\n",
    "        await base.OnProcessMessageAsync(args);\n",
    "    }\n",
    "```\n",
    "---\n",
    "⬇️\n",
    "\n",
    "```csharp\n",
    "    public static ProcessMessageEventArgs CreateMessageArgs<T>(\n",
    "        T payload, int deliveryCount = 1, Dictionary<string, object>? applicationProperties = null) \n",
    "        where T : class\n",
    "    {\n",
    "        var payloadJson = JsonSerializer.Serialize(payload, GlobalJsonSerialiserSettings.Default);\n",
    "\n",
    "        var correlationId = Guid.NewGuid().ToString();\n",
    "        applicationProperties ??= new Dictionary<string, object>\n",
    "        {\n",
    "            { \"origin\", \"ComponentTests\" }\n",
    "        };\n",
    "\n",
    "        var message = ServiceBusModelFactory.ServiceBusReceivedMessage(\n",
    "            body: BinaryData.FromString(payloadJson),\n",
    "            correlationId: correlationId,\n",
    "            properties: applicationProperties,\n",
    "            deliveryCount: deliveryCount);\n",
    "\n",
    "        var args = new TestableProcessMessageEventArgs(message);\n",
    "\n",
    "        return args;\n",
    "    }\n",
    "}\n",
    "```\n",
    "---\n",
    "⬇️\n",
    "\n",
    "```csharp\n",
    "public class TestableProcessMessageEventArgs(ServiceBusReceivedMessage message) \n",
    "    : ProcessMessageEventArgs(message, null, CancellationToken.None)\n",
    "{\n",
    "    public bool WasCompleted;\n",
    "    public bool WasDeadLettered;\n",
    "    public bool WasAbandoned;\n",
    "    public DateTime Created = DateTime.UtcNow;\n",
    "    public string DeadLetterReason = string.Empty;\n",
    "\n",
    "    public override Task CompleteMessageAsync(ServiceBusReceivedMessage message,\n",
    "        CancellationToken cancellationToken = new())\n",
    "    {\n",
    "        WasCompleted = true;\n",
    "        return Task.CompletedTask;\n",
    "    }\n",
    "```\n",
    "\n",
    "<div style=\"display:block; height: 30rem;\"></div>"
   ]
  },
  {
   "cell_type": "markdown",
   "metadata": {},
   "source": [
    "<link rel=\"stylesheet\" href=\"styles.css\">\n",
    "\n",
    "# How? #5 Mock Service Bus Sender 🚌\n",
    "\n",
    "## ServiceBusClient can be Mocked using your favourite mocking framework\n",
    "\n",
    "```csharp\n",
    "public Then AMessageWasSent(Mock<ServiceBusSender> senderMock, int times = 1)\n",
    "{\n",
    "    senderMock.Verify(x => x.SendMessageAsync(\n",
    "        It.IsAny<ServiceBusMessage>(), It.IsAny<CancellationToken>()), Times.Exactly(times));\n",
    "\n",
    "    return this;\n",
    "}\n",
    "```\n",
    "\n",
    "## If one service sends a message to another, use Callback() or equivalent\n",
    "\n",
    "```csharp\n",
    "public class MockServiceBus\n",
    "{\n",
    "    private readonly Dictionary<Type, TestableServiceBusProcessor> processors = new();\n",
    "    private readonly Dictionary<Type, Mock<ServiceBusSender>> mockSenders = new();\n",
    "\n",
    "    public void WireUpSendersAndProcessors(IServiceCollection services) {...}\n",
    "\n",
    "    // plus methods for adding and getting Processors ...\n",
    "\n",
    "    public void ClearDeliveryAttemptsOnAllProcessors() {...}\n",
    "\n",
    "    // plus methods for adding and getting Senders ...\n",
    "\n",
    "    public void ClearAllInvocationsOnAllSenders() {...}\n",
    "\n",
    "    public void MessagesSentToSenderWillBeReceivedOnCorrespondingProcessor<TMessageType>() where TMessageType : class {...}\n",
    "\n",
    "    public void MessagesSentToSendersWillBeReceivedOnCorrespondingProcessors() {...}\n",
    "}\n",
    "```\n",
    "\n",
    "## There is also the official Azure service Bus Emulator🤔\n",
    "\n",
    "<div style=\"display:block; height: 30rem;\"></div>"
   ]
  },
  {
   "cell_type": "markdown",
   "metadata": {},
   "source": [
    "<link rel=\"stylesheet\" href=\"styles.css\">\n",
    "\n",
    "# How? #6 Re-wire Http Clients if needed\n",
    "\n",
    "```csharp\n",
    "public class EventListenerWebApplicationFactory : WebApplicationFactory<EventListener.Program>\n",
    "{    \n",
    "    private readonly CustomHttpClientFactory customHttpClientFactory = new();\n",
    "```\n",
    "\n",
    "``` csharp\n",
    "    protected override void ConfigureWebHost(IWebHostBuilder builder)\n",
    "    {\n",
    "        base.ConfigureWebHost(builder);\n",
    "        builder.ConfigureServices(services =>\n",
    "        {\n",
    "            // Replace standard IHttpClientFactory impl with custom one with any added HTTP clients.\n",
    "            services.AddSingleton<IHttpClientFactory>(customHttpClientFactory);\n",
    "        });\n",
    "    }\n",
    "```\n",
    "\n",
    "```csharp\n",
    "    public void ClearHttpClients() => customHttpClientFactory.HttpClients.Clear();\n",
    "\n",
    "    public void AddHttpClient(string clientName, HttpClient client)\n",
    "    {\n",
    "        if (customHttpClientFactory.HttpClients.TryAdd(clientName, client) == false)\n",
    "        {\n",
    "            throw new InvalidOperationException($\"HttpClient with name {clientName} is already added\");\n",
    "        }\n",
    "    }\n",
    "```\n",
    "\n",
    "```csharp\n",
    "}\n",
    "```\n",
    "\n",
    "---\n",
    "\n",
    "```csharp\n",
    "public class CustomHttpClientFactory() : IHttpClientFactory\n",
    "{\n",
    "    public Dictionary<string, HttpClient> HttpClients = [];\n",
    "\n",
    "    public HttpClient CreateClient(string name) =>\n",
    "        HttpClients.GetValueOrDefault(name)\n",
    "        ?? throw new InvalidOperationException($\"HTTP client is not found for client with name {name}\");\n",
    "}\n",
    "```\n",
    "\n",
    "<div style=\"display:block; height: 30rem;\"></div>"
   ]
  },
  {
   "cell_type": "markdown",
   "metadata": {},
   "source": [
    "<link rel=\"stylesheet\" href=\"styles.css\">\n",
    "\n",
    "# How? #7 Database connections\n",
    "\n",
    "- Replace db connection in IoC container with Mock backed by in-memory collections\n",
    "- In-memory db context for EF Core\n",
    "- Or use a real db connection with something like CSharpSqlTests\n",
    "\n",
    "animated diagram?\n",
    "\n",
    "<div style=\"display:block; height: 30rem;\"></div>"
   ]
  },
  {
   "cell_type": "markdown",
   "metadata": {},
   "source": [
    "<link rel=\"stylesheet\" href=\"styles.css\">\n",
    "\n",
    "# Demo time!\n",
    "\n",
    "<div style=\"display:block; height: 30rem;\"></div>"
   ]
  },
  {
   "cell_type": "markdown",
   "metadata": {},
   "source": [
    "<link rel=\"stylesheet\" href=\"styles.css\">\n",
    "\n",
    "# Pros and Cons\n",
    "\n",
    "✔️ The more reusable the code is, the more care and love is justified\n",
    "\n",
    "✔️ Test entire e2e flows in addition to individual phases \n",
    "\n",
    "✔️ Detect config and IoC registration issues\n",
    "\n",
    "✔️ Not locked into any particular tooling\n",
    "\n",
    "<div style=\"display:block; height: 5rem;\"></div>\n",
    "\n",
    "✖️ TDD is possible but is definitely a bit harder getting started\n",
    "\n",
    "✖️ Timing and async\n",
    "\n",
    "✖️ Still need to run locally to prove integrations/mocked behaviours work as expected etc\n",
    "\n",
    "<div style=\"display:block; height: 30rem;\"></div>\n"
   ]
  },
  {
   "cell_type": "markdown",
   "metadata": {},
   "source": [
    "<link rel=\"stylesheet\" href=\"styles.css\">\n",
    "<style> \n",
    "h1, h3 {\n",
    "  text-align: center;\n",
    "  font-weight: bold;\n",
    "}\n",
    "</style>\n",
    "\n",
    "# Integration Tests\n",
    "\n",
    "### how _not_ to hate them! ❤️\n",
    "\n",
    "<div style=\"display:block; height: 30rem;\"></div>"
   ]
  },
  {
   "cell_type": "markdown",
   "metadata": {},
   "source": [
    "<link rel=\"stylesheet\" href=\"styles.css\">\n",
    "\n",
    "# The problem with integration tests…\n",
    "\n",
    "- They tend to be the last task on a story… 😒\n",
    "- Feedback loop: `change -> CI build -> release -> tests` is way too long 🥱\n",
    "- They expose how difficult it is to run things locally 😬\n",
    "\n",
    "<div style=\"display:block; height: 30rem;\"></div>"
   ]
  },
  {
   "cell_type": "markdown",
   "metadata": {},
   "source": [
    "<link rel=\"stylesheet\" href=\"styles.css\">\n",
    "\n",
    "# The problem with local dev ex…\n",
    "\n",
    "- Heavily dependant on Compute platform\n",
    "- Too many options!\n",
    "- Large differences between local and real running in an environment\n",
    "\n",
    "\n",
    "<div style=\"display:block; height: 30rem;\"></div>\n"
   ]
  },
  {
   "cell_type": "markdown",
   "metadata": {},
   "source": [
    "<link rel=\"stylesheet\" href=\"styles.css\">\n",
    "\n",
    "# Specific issues…\n",
    "\n",
    "Bacs! 🤯\n",
    "\n",
    "1) Config\n",
    "    - Too many options!\n",
    "    - Managing git changes - don't check in secrets!\n",
    "\n",
    "2) Service Bus Topics, Subscriptions & Queues\n",
    "    - sharing a team env namespace, with prefixing\n",
    "    - manual queue creation in Azure portal😒\n",
    "\n",
    "\n",
    "<div style=\"display:block; height: 30rem;\"></div>\n"
   ]
  },
  {
   "cell_type": "markdown",
   "metadata": {},
   "source": [
    "<link rel=\"stylesheet\" href=\"styles.css\">\n",
    "\n",
    "# Differences between local and real env/pipeline\n",
    "\n",
    "- ManagedIdentity from within containers\n",
    "    ```\n",
    "    #IF DEBUG 😒\n",
    "    VS != AKS!\n",
    "    ```\n",
    "- Communication with pods without Ingress etc\n",
    "    ```\n",
    "    No local APIM\n",
    "    Different base urls per service rather than one\n",
    "    ```\n",
    "\n",
    "\n",
    "<div style=\"display:block; height: 30rem;\"></div>\n"
   ]
  },
  {
   "cell_type": "markdown",
   "metadata": {},
   "source": [
    "<link rel=\"stylesheet\" href=\"styles.css\">\n",
    "\n",
    "# In an ideal world…\n",
    "\n",
    "We would:\n",
    "\n",
    "- Clone a repo\n",
    "- Run non-integration tests, all pass first time\n",
    "- Run a single local deploy script/command\n",
    "- Run integration tests, all pass first time\n",
    "- From there on, hit [F5] and everything runs nicely😁\n",
    "\n",
    "<div style=\"display:block; height: 30rem;\"></div>"
   ]
  },
  {
   "cell_type": "markdown",
   "metadata": {},
   "source": [
    "<link rel=\"stylesheet\" href=\"styles.css\">\n",
    "\n",
    "# Closing gaps between local and env running…\n",
    "\n",
    "e.g for AKS via Helm charts and Skaffold...\n",
    "\n",
    "- Use same tooling as release where possible?\n",
    "- Your app sees environment variables and secrets as config providers, why not just use system environment variables locally?\n",
    "- External services probably all exist in your team env?\n",
    "\n",
    "<div style=\"display:block; height: 30rem;\"></div>"
   ]
  },
  {
   "cell_type": "markdown",
   "metadata": {},
   "source": [
    "<link rel=\"stylesheet\" href=\"styles.css\">\n",
    "\n",
    "# 1) Config, potential fix…\n",
    "\n",
    "Aim for fewest types of config:\n",
    "\n",
    "- Static config in appSettings.json, \n",
    "- everything else in environment variables\n",
    "\n",
    "**Once agreed, keep it consistent!🚀**\n",
    "\n",
    "Manage environment variables with Powershell…\n",
    "\n",
    "<div style=\"display:block; height: 30rem;\"></div>"
   ]
  },
  {
   "cell_type": "markdown",
   "metadata": {},
   "source": [
    "<link rel=\"stylesheet\" href=\"styles.css\">\n",
    "\n",
    "# Use Powershell…\n",
    "\n",
    "```\n",
    "Powershell script (specify team/env)\n",
    "-> az login\n",
    "-> set active subscription\n",
    "-> fetch ASB connection string & namespace\n",
    "-> fetch APIM base endpoint & keys for specific products\n",
    "-> write into env vars\n",
    "-> restart Visual Studio!\n",
    "```\n",
    "hint: copilot chat is very good at creating things like this! 🤖\n",
    "\n",
    "<div style=\"display:block; height: 30rem;\"></div>"
   ]
  },
  {
   "cell_type": "markdown",
   "metadata": {},
   "source": [
    "<link rel=\"stylesheet\" href=\"styles.css\">\n",
    "\n",
    "# Azure Service Bus potential fix…\n",
    "\n",
    "A ServiceBus Fixture likely already exists?\n",
    "\n",
    "It should create topics, subscriptions and forwarding queues?\n",
    "\n",
    "Prefix with machine name to share single namespace\n",
    "\n",
    "When running locally just don’t delete them at the end!\n",
    "\n",
    "<div style=\"display:block; height: 30rem;\"></div>"
   ]
  },
  {
   "cell_type": "markdown",
   "metadata": {},
   "source": [
    "<link rel=\"stylesheet\" href=\"styles.css\">\n",
    "\n",
    "# Demo!\n",
    "\n",
    "<div style=\"display:block; height: 30rem;\"></div>"
   ]
  },
  {
   "cell_type": "markdown",
   "metadata": {},
   "source": [
    "<link rel=\"stylesheet\" href=\"styles.css\">\n",
    "\n",
    "# ToDo...\n",
    "\n",
    "- Prefix env variables for different apps in script\n",
    "- Use of shared local running helm charts?\n",
    "- Use of `DefaultCredential` for authenticating via MI from inside containers\n",
    "- Improve local database setup and deployment story\n",
    "- Investigate bridge-to-kubernetes\n",
    "\n",
    "<div style=\"display:block; height: 30rem;\"></div>"
   ]
  },
  {
   "cell_type": "markdown",
   "metadata": {},
   "source": [
    "<link rel=\"stylesheet\" href=\"styles.css\">\n",
    "\n",
    "# Pros and Cons\n",
    "\n",
    "✔️ Slightly closer to the ideal scenario\n",
    "\n",
    "✔️ consistent results across everyone's machines\n",
    "\n",
    "✖️ scripts to maintain\n",
    "\n",
    "<div style=\"display:block; height: 30rem;\"></div>"
   ]
  },
  {
   "cell_type": "code",
   "execution_count": null,
   "metadata": {
    "polyglot_notebook": {
     "kernelName": "csharp"
    },
    "vscode": {
     "languageId": "polyglot-notebook"
    }
   },
   "outputs": [],
   "source": [
    "// CSharp sample code\n",
    "var now = TimeProvider.System.GetUtcNow();\n",
    "Console.WriteLine($\"Hello world! @ {now}\");"
   ]
  }
 ],
 "metadata": {
  "kernelspec": {
   "display_name": ".NET (C#)",
   "language": "C#",
   "name": ".net-csharp"
  },
  "language_info": {
   "name": "python"
  },
  "polyglot_notebook": {
   "kernelInfo": {
    "defaultKernelName": "csharp",
    "items": [
     {
      "aliases": [],
      "name": "csharp"
     }
    ]
   }
  }
 },
 "nbformat": 4,
 "nbformat_minor": 2
}
