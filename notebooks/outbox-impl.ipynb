{
  "cells": [
    {
      "cell_type": "markdown",
      "metadata": {
        "polyglot_notebook": {
          "kernelName": "csharp"
        },
        "slideshow": {
          "slide_type": "slide"
        }
      },
      "source": [
        "# Outbox Impl with Immutable Architecture\n",
        "\n",
        "## Aim\n",
        "\n",
        "Demonstrate how Transactional Outbox funtionality can be achieved using append only database records.\n",
        "\n",
        "## Process\n",
        "\n",
        "- Outbox Items should be inserted inside a Sql transaction atomically in the app\n",
        "- Outbox Items contain the Messaging entity, Type name and json data\n",
        "- Separate background process polls for and dispatches messages\n",
        "- Dispatch status is tracked using a separate table\n",
        "- Status's: `Sent|TansientFailure|Scheduled|Cancelled`\n",
        "- Retries with exponential backoff\n",
        "- Separate background process can tidy up records later\n",
        "\n",
        "## First to set some things up..."
      ]
    },
    {
      "cell_type": "code",
      "execution_count": 1,
      "metadata": {
        "polyglot_notebook": {
          "kernelName": "csharp"
        }
      },
      "outputs": [
        {
          "data": {
            "text/html": [
              "<div><div></div><div></div><div><strong>Installed Packages</strong><ul><li><span>Microsoft.DotNet.Interactive.SqlServer, 1.0.0-beta.25177.1</span></li></ul></div></div>"
            ]
          },
          "metadata": {},
          "output_type": "display_data"
        },
        {
          "data": {
            "text/plain": [
              "Loading extension script from `C:\\Users\\andre\\.nuget\\packages\\microsoft.dotnet.interactive.sqlserver\\1.0.0-beta.25177.1\\interactive-extensions\\dotnet\\extension.dib`"
            ]
          },
          "metadata": {},
          "output_type": "display_data"
        },
        {
          "data": {
            "text/html": [
              "<details><summary>Query Microsoft SQL Server databases.</summary>\r\n",
              "<p>This extension adds support for connecting to Microsoft SQL Server databases using the <code>#!connect mssql</code> magic command. For more information, run a cell using the <code>#!sql</code> magic command.</p>\r\n",
              "</details>"
            ]
          },
          "metadata": {},
          "output_type": "display_data"
        }
      ],
      "source": [
        "#r \"nuget: Microsoft.DotNet.Interactive.SqlServer, *-*\""
      ]
    },
    {
      "cell_type": "code",
      "execution_count": 2,
      "metadata": {
        "polyglot_notebook": {
          "kernelName": "csharp"
        }
      },
      "outputs": [
        {
          "data": {
            "text/plain": [
              "Kernel added: #!sql-Outbox"
            ]
          },
          "metadata": {},
          "output_type": "display_data"
        }
      ],
      "source": [
        "#!connect mssql --kernel-name Outbox \"Server=(localdb)\\MSSQLLocalDB;Database=WeatherAppDb;\""
      ]
    },
    {
      "cell_type": "markdown",
      "metadata": {},
      "source": [
        "## Now we can query the database:"
      ]
    },
    {
      "cell_type": "code",
      "execution_count": 3,
      "metadata": {
        "polyglot_notebook": {
          "kernelName": "sql-Outbox"
        }
      },
      "outputs": [
        {
          "data": {
            "text/plain": [
              "(0 rows affected)"
            ]
          },
          "metadata": {},
          "output_type": "display_data"
        },
        {
          "data": {
            "text/plain": [
              "(0 rows affected)"
            ]
          },
          "metadata": {},
          "output_type": "display_data"
        },
        {
          "data": {
            "text/plain": [
              "Info: No rows were returned for query 0 in batch 0."
            ]
          },
          "metadata": {},
          "output_type": "display_data"
        },
        {
          "data": {
            "text/plain": [
              "Info: No rows were returned for query 1 in batch 0."
            ]
          },
          "metadata": {},
          "output_type": "display_data"
        }
      ],
      "source": [
        "SELECT * FROM OutboxItems\n",
        "SELECT * FROM OutboxItemStatus"
      ]
    },
    {
      "cell_type": "markdown",
      "metadata": {
        "slideshow": {
          "slide_type": "slide"
        }
      },
      "source": [
        "## Reset..."
      ]
    },
    {
      "cell_type": "code",
      "execution_count": null,
      "metadata": {
        "polyglot_notebook": {
          "kernelName": "sql-Outbox"
        }
      },
      "outputs": [],
      "source": [
        "DELETE FROM [Outbox].[dbo].[OutboxItemStatus]\n",
        "DELETE FROM [Outbox].[dbo].[OutboxItems]"
      ]
    },
    {
      "cell_type": "markdown",
      "metadata": {
        "slideshow": {
          "slide_type": "slide"
        }
      },
      "source": [
        "## Insert an OutboxItem record via SQL..."
      ]
    },
    {
      "cell_type": "code",
      "execution_count": 4,
      "metadata": {
        "polyglot_notebook": {
          "kernelName": "sql-Outbox"
        }
      },
      "outputs": [
        {
          "data": {
            "text/plain": [
              "(1 row affected)"
            ]
          },
          "metadata": {},
          "output_type": "display_data"
        },
        {
          "data": {
            "text/plain": [
              "(0 rows affected)"
            ]
          },
          "metadata": {},
          "output_type": "display_data"
        },
        {
          "data": {
            "text/plain": [
              "Info: No rows were returned for query 0 in batch 0."
            ]
          },
          "metadata": {},
          "output_type": "display_data"
        }
      ],
      "source": [
        "INSERT INTO [Outbox].[dbo].[OutboxItems]\n",
        "        ([TypeName]\n",
        "        ,[SerialisedData]\n",
        "        ,[MessagingEntityName]\n",
        "        ,[Created])\n",
        "    VALUES\n",
        "        ('MyNamespace.MyEvent'\n",
        "        ,'{\\\"MyProperty\\\":\\\"MyValue1\\\"}'\n",
        "        ,'MyQueue'\n",
        "        ,GETDATE())\n",
        "\n",
        "SELECT * FROM OutboxItems"
      ]
    },
    {
      "cell_type": "markdown",
      "metadata": {
        "slideshow": {
          "slide_type": "slide"
        }
      },
      "source": [
        "## Insert an OutboxSentStatus record via SQL..."
      ]
    },
    {
      "cell_type": "code",
      "execution_count": 5,
      "metadata": {
        "polyglot_notebook": {
          "kernelName": "sql-Outbox"
        }
      },
      "outputs": [
        {
          "data": {
            "text/plain": [
              "(1 row affected)"
            ]
          },
          "metadata": {},
          "output_type": "display_data"
        },
        {
          "data": {
            "text/plain": [
              "(0 rows affected)"
            ]
          },
          "metadata": {},
          "output_type": "display_data"
        },
        {
          "data": {
            "text/plain": [
              "(0 rows affected)"
            ]
          },
          "metadata": {},
          "output_type": "display_data"
        },
        {
          "data": {
            "text/plain": [
              "Info: No rows were returned for query 0 in batch 0."
            ]
          },
          "metadata": {},
          "output_type": "display_data"
        },
        {
          "data": {
            "text/plain": [
              "Info: No rows were returned for query 1 in batch 0."
            ]
          },
          "metadata": {},
          "output_type": "display_data"
        }
      ],
      "source": [
        "declare @id int\n",
        "set @id = (SELECT TOP(1) ID FROM [Outbox].[dbo].[OutboxItems] ORDER BY ID DESC) -- fetch the last OutboxItem ID\n",
        "\n",
        "INSERT INTO [Outbox].[dbo].[OutboxItemStatus]\n",
        "        ([OutboxItemId]\n",
        "        ,[Status]\n",
        "        ,[Created])\n",
        "    VALUES\n",
        "        (@id\n",
        "        ,1 -- Sent\n",
        "        ,GETDATE())\n",
        "\n",
        "SELECT * FROM OutboxItems\n",
        "SELECT * FROM OutboxItemStatus"
      ]
    },
    {
      "cell_type": "markdown",
      "metadata": {},
      "source": [
        "## FK Constrint prevents deleting of any `OutboxItem` which are referenced in any `OutboxItemStatus`..."
      ]
    },
    {
      "cell_type": "code",
      "execution_count": 6,
      "metadata": {
        "polyglot_notebook": {
          "kernelName": "sql-Outbox"
        }
      },
      "outputs": [
        {
          "ename": "Error",
          "evalue": "Msg 547, Level 16, State 0, Line 1\r\nThe DELETE statement conflicted with the REFERENCE constraint \"FK__OutboxIte__Outbo__3B75D760\". The conflict occurred in database \"Outbox\", table \"dbo.OutboxItemStatus\", column 'OutboxItemId'.",
          "output_type": "error",
          "traceback": [
            "Msg 547, Level 16, State 0, Line 1\r\n",
            "The DELETE statement conflicted with the REFERENCE constraint \"FK__OutboxIte__Outbo__3B75D760\". The conflict occurred in database \"Outbox\", table \"dbo.OutboxItemStatus\", column 'OutboxItemId'."
          ]
        }
      ],
      "source": [
        "DELETE FROM [Outbox].[dbo].[OutboxItems]"
      ]
    },
    {
      "cell_type": "markdown",
      "metadata": {},
      "source": [
        "## Now we need some C# models and a repository..."
      ]
    },
    {
      "cell_type": "code",
      "execution_count": 7,
      "metadata": {
        "polyglot_notebook": {
          "kernelName": "csharp"
        }
      },
      "outputs": [
        {
          "data": {
            "text/html": [
              "<div><div></div><div></div><div><strong>Installed Packages</strong><ul><li><span>Dapper, 2.0.123</span></li></ul></div></div>"
            ]
          },
          "metadata": {},
          "output_type": "display_data"
        }
      ],
      "source": [
        "#r \"nuget:Dapper, 2.0.123\"\n",
        "\n",
        "using System.Data;\n",
        "using System.Threading.Tasks;\n",
        "using System.Text.Json;\n",
        "using Dapper;\n",
        "\n",
        "public const int NoIdYet = 0;\n",
        "\n",
        "public record OutboxItem(\n",
        "    long Id,\n",
        "    string TypeName,\n",
        "    string SerialisedData,\n",
        "    string MessagingEntityName,\n",
        "    DateTimeOffset Created\n",
        ")\n",
        "{\n",
        "    public static OutboxItem Create<T>(T messageObject, string messagingEntityName)\n",
        "    {\n",
        "        return new OutboxItem(\n",
        "            NoIdYet, \n",
        "            typeof(T).FullName, \n",
        "            JsonSerializer.Serialize(messageObject), \n",
        "            messagingEntityName, \n",
        "            TimeProvider.System.GetUtcNow());\n",
        "    }\n",
        "}\n",
        "\n",
        "public enum OutboxSentStatus\n",
        "{\n",
        "    Pending = 0,\n",
        "    Sent = 1,\n",
        "    TransientFailure = 2,\n",
        "    Scheduled = 3,\n",
        "    Cancelled = 4\n",
        "}\n",
        "\n",
        "public record OutboxSentStatusUpdate(\n",
        "    long Id,\n",
        "    long OutboxItemId,\n",
        "    OutboxSentStatus Status,\n",
        "    DateTimeOffset? NotBefore,\n",
        "    DateTimeOffset Created\n",
        ")\n",
        "{\n",
        "    public static OutboxSentStatusUpdate CreateSent(long outboxItemId) => \n",
        "        new(NoIdYet, outboxItemId, OutboxSentStatus.Sent, null, TimeProvider.System.GetUtcNow());\n",
        "    \n",
        "    public static OutboxSentStatusUpdate CreateTransientFailure(long outboxItemId, DateTimeOffset notBefore) =>\n",
        "        new(NoIdYet, outboxItemId, OutboxSentStatus.TransientFailure, notBefore, TimeProvider.System.GetUtcNow());\n",
        "    \n",
        "    public static OutboxSentStatusUpdate CreateScheduled(long outboxItemId, DateTimeOffset notBefore) =>\n",
        "        new(NoIdYet, outboxItemId, OutboxSentStatus.Scheduled, notBefore, TimeProvider.System.GetUtcNow());\n",
        "    \n",
        "    public static OutboxSentStatusUpdate CreateCancelled(long outboxItemId) => \n",
        "        new(NoIdYet, outboxItemId, OutboxSentStatus.Cancelled, null, TimeProvider.System.GetUtcNow());\n",
        "    \n",
        "}\n",
        "\n",
        "public class OutboxRepository\n",
        "{\n",
        "    private readonly IDbConnection _dbConnection;\n",
        "\n",
        "    public OutboxRepository(IDbConnection dbConnection)\n",
        "    {\n",
        "        _dbConnection = dbConnection;\n",
        "    }\n",
        "\n",
        "    public async Task<long> Add(OutboxItem outboxItem, IDbTransaction? transaction = null)\n",
        "    {        \n",
        "        const string sql = @\"\n",
        "            INSERT INTO [dbo].[OutboxItems] ([TypeName], [SerialisedData], [MessagingEntityName], [Created])\n",
        "            VALUES (@TypeName, @SerialisedData, @MessagingEntityName, @Created);\n",
        "            SELECT CAST(SCOPE_IDENTITY() as BIGINT);\";\n",
        "\n",
        "        return await _dbConnection.ExecuteScalarAsync<long>(sql, outboxItem, transaction);\n",
        "    }\n",
        "\n",
        "    public async Task<long> AddScheduled(OutboxItem outboxItem, DateTimeOffset retryAfter)\n",
        "    {\n",
        "        _dbConnection.Open();\n",
        "        using var transaction = _dbConnection.BeginTransaction();\n",
        "\n",
        "        var id = await Add(outboxItem, transaction);\n",
        "        await AddSentStatus(OutboxSentStatusUpdate.CreateScheduled(id, retryAfter), transaction);\n",
        "\n",
        "        transaction.Commit();\n",
        "\n",
        "        return id;\n",
        "    }\n",
        "    \n",
        "    public async Task<long> AddSentStatus(OutboxSentStatusUpdate outboxSentStatusUpdate, IDbTransaction? transaction = null)\n",
        "    {\n",
        "        const string sql = @\"\n",
        "            INSERT INTO [dbo].[OutboxItemStatus] ([OutboxItemId], [Status], [NotBefore], [Created])\n",
        "            VALUES (@OutboxItemId, @Status, @NotBefore, @Created);\n",
        "            SELECT CAST(SCOPE_IDENTITY() as BIGINT);\";\n",
        "\n",
        "        return await _dbConnection.ExecuteScalarAsync<long>(sql, outboxSentStatusUpdate, transaction);\n",
        "    }\n",
        "}"
      ]
    },
    {
      "cell_type": "markdown",
      "metadata": {},
      "source": [
        "### Add a dummy class to use as an Outbox Message...\n",
        "\n",
        "And a method to generate random instances 🙂"
      ]
    },
    {
      "cell_type": "code",
      "execution_count": 8,
      "metadata": {
        "polyglot_notebook": {
          "kernelName": "csharp"
        }
      },
      "outputs": [],
      "source": [
        "public record PaymentRecievedEvent(string PaymentId, decimal Amount, string IsoCurrencyCode, string SortCode, string AccountNumber, string Reference)\n",
        "{\n",
        "    public static PaymentRecievedEvent Random()\n",
        "    {\n",
        "        return new PaymentRecievedEvent(\n",
        "            Guid.NewGuid().ToString(),\n",
        "            new Random().Next(1, 1000),\n",
        "            \"GBP\",\n",
        "            \"12-34-56\",\n",
        "            \"12345678\",\n",
        "            Guid.NewGuid().ToString()\n",
        "        );\n",
        "    }\n",
        "}"
      ]
    },
    {
      "cell_type": "markdown",
      "metadata": {},
      "source": [
        "### Now we can add some Outbox Items..."
      ]
    },
    {
      "cell_type": "code",
      "execution_count": 9,
      "metadata": {
        "polyglot_notebook": {
          "kernelName": "csharp"
        }
      },
      "outputs": [
        {
          "data": {
            "text/html": [
              "<div><div></div><div></div><div><strong>Installed Packages</strong><ul><li><span>microsoft.data.sqlclient, 5.2.2</span></li></ul></div></div>"
            ]
          },
          "metadata": {},
          "output_type": "display_data"
        },
        {
          "name": "stdout",
          "output_type": "stream",
          "text": [
            "1 1# Sent\n",
            "2 2# Failed retry...\n",
            "3 3# Scheduled wait...\n",
            "4 4# Cancelled\n"
          ]
        }
      ],
      "source": [
        "#r \"nuget:Microsoft.Data.SqlClient, *-*\"\n",
        "\n",
        "using System;\n",
        "using System.Data;\n",
        "using Microsoft.Data.SqlClient;\n",
        "\n",
        "var connectionString = \"Server=(localdb)\\\\MSSQLLocalDB;Database=WeatherAppDb;\";\n",
        "\n",
        "using (var connection = new SqlConnection(connectionString))\n",
        "{\n",
        "    var outboxRepository = new OutboxRepository(connection);\n",
        "\n",
        "    var outboxItemId1 = await outboxRepository.Add(OutboxItem.Create(PaymentRecievedEvent.Random(), \"PaymentRecievedEventTopic\"));\n",
        "    await outboxRepository.AddSentStatus(OutboxSentStatusUpdate.CreateSent(outboxItemId1));\n",
        "    Console.WriteLine($\"{outboxItemId1} 1# Sent\");\n",
        "\n",
        "    var outboxItemId2 = await outboxRepository.Add(OutboxItem.Create(PaymentRecievedEvent.Random(), \"PaymentRecievedEventTopic\"));\n",
        "    await outboxRepository.AddSentStatus(OutboxSentStatusUpdate.CreateTransientFailure(outboxItemId2, TimeProvider.System.GetUtcNow().AddMinutes(1)));\n",
        "    Console.WriteLine($\"{outboxItemId2} 2# Failed retry...\");\n",
        "\n",
        "    var outboxItemId3 = await outboxRepository.Add(OutboxItem.Create(PaymentRecievedEvent.Random(), \"PaymentRecievedEventTopic\"));\n",
        "    await outboxRepository.AddSentStatus(OutboxSentStatusUpdate.CreateScheduled(outboxItemId3, TimeProvider.System.GetUtcNow().AddMinutes(1)));\n",
        "    Console.WriteLine($\"{outboxItemId3} 3# Scheduled wait...\");\n",
        "\n",
        "    var outboxItemId4 = await outboxRepository.Add(OutboxItem.Create(PaymentRecievedEvent.Random(), \"PaymentRecievedEventTopic\"));\n",
        "    await outboxRepository.AddSentStatus(OutboxSentStatusUpdate.CreateCancelled(outboxItemId4));\n",
        "    Console.WriteLine($\"{outboxItemId4} 4# Cancelled\");\n",
        "\n",
        "    // var outboxItemId5 = await outboxRepository.Add(OutboxItem.Create(PaymentRecievedEvent.Random(), \"PaymentRecievedEventTopic\"));\n",
        "    // var outboxItemId6 = await outboxRepository.Add(OutboxItem.Create(PaymentRecievedEvent.Random(), \"PaymentRecievedEventTopic\"));\n",
        "    // var outboxItemId7 = await outboxRepository.Add(OutboxItem.Create(PaymentRecievedEvent.Random(), \"PaymentRecievedEventTopic\"));\n",
        "    \n",
        "    // var outboxItemId11 = await outboxRepository.AddScheduled(\n",
        "    //     OutboxItem.Create(PaymentRecievedEvent.Random(), \"PaymentRecievedEventTopic\"), TimeProvider.System.GetUtcNow().AddMinutes(1));\n",
        "};\n"
      ]
    },
    {
      "cell_type": "markdown",
      "metadata": {},
      "source": [
        "### Querying for the next batch of `OutboxItems` to dispatch..."
      ]
    },
    {
      "cell_type": "code",
      "execution_count": 10,
      "metadata": {
        "polyglot_notebook": {
          "kernelName": "sql-Outbox"
        }
      },
      "outputs": [
        {
          "data": {
            "text/plain": [
              "(0 rows affected)"
            ]
          },
          "metadata": {},
          "output_type": "display_data"
        },
        {
          "data": {
            "text/plain": [
              "Info: No rows were returned for query 0 in batch 0."
            ]
          },
          "metadata": {},
          "output_type": "display_data"
        }
      ],
      "source": [
        "BEGIN TRAN; -- transaction allows locking, we are not updating anything.\n",
        "    WITH LatestStatus AS\n",
        "    (\n",
        "        SELECT\n",
        "            [OutboxItemId],\n",
        "            [Status],\n",
        "            [NotBefore],\n",
        "            ROW_NUMBER() OVER (PARTITION BY [OutboxItemId] ORDER BY [Created] DESC) AS RowNum\n",
        "        FROM [dbo].[OutboxItemStatus]\n",
        "    )\n",
        "    SELECT TOP (3) -- Batch size of 3 \n",
        "        OI.*,\n",
        "        CASE \n",
        "            WHEN LS.[Status] = 1 THEN 'Sent'\n",
        "            WHEN LS.[Status] = 2 THEN 'TransientFailure'\n",
        "            WHEN LS.[Status] = 3 THEN 'Scheduled'\n",
        "            WHEN LS.[Status] = 4 THEN 'Cancelled'\n",
        "            WHEN LS.[Status] IS NULL THEN 'Pending'\n",
        "        END AS [Status],\n",
        "        LS.[NotBefore]\n",
        "    FROM [dbo].[OutboxItems] OI WITH (UPDLOCK, READPAST)\n",
        "    LEFT JOIN LatestStatus LS\n",
        "        ON OI.[Id] = LS.[OutboxItemId] AND LS.RowNum = 1\n",
        "    WHERE\n",
        "        LS.[OutboxItemId] IS NULL -- No status record exists yet, OutboxItem is pending\n",
        "        OR (LS.[Status] = 2 AND LS.[NotBefore] < GETUTCDATE()) -- Transient Failure and NotBefore has past        \n",
        "        OR (LS.[Status] = 3 AND LS.[NotBefore] < GETUTCDATE()) -- Scheduled and NotBefore has past        \n",
        "    ORDER BY OI.[Created];  \n",
        "ROLLBACK"
      ]
    },
    {
      "cell_type": "code",
      "execution_count": 11,
      "metadata": {
        "polyglot_notebook": {
          "kernelName": "sql-Outbox"
        }
      },
      "outputs": [
        {
          "data": {
            "text/plain": [
              "(4 rows affected)"
            ]
          },
          "metadata": {},
          "output_type": "display_data"
        },
        {
          "data": {
            "text/plain": [
              "(4 rows affected)"
            ]
          },
          "metadata": {},
          "output_type": "display_data"
        },
        {
          "data": {
            "text/csv": [
              "Id,TypeName,SerialisedData,MessagingEntityName,Created\r\n",
              "1,Submission#3+PaymentRecievedEvent,{\"\"PaymentId\"\":\"\"1446b106-06fe-4144-b0ad-7e547e6384a3\"\",\"\"Amount\"\":939,\"\"IsoCurrencyCode\"\":\"\"GBP\"\",\"\"SortCode\"\":\"\"12-34-56\"\",\"\"AccountNumber\"\":\"\"12345678\"\",\"\"Reference\"\":\"\"32195cef-b2d6-4b8c-a95e-02768d813289\"\"},PaymentRecievedEventTopic,\"4/2/2025 3:47:20 PM +00:00\"\r\n",
              "2,Submission#3+PaymentRecievedEvent,{\"\"PaymentId\"\":\"\"d89d2e4b-d9e7-4a87-93e9-b7ee695c5012\"\",\"\"Amount\"\":958,\"\"IsoCurrencyCode\"\":\"\"GBP\"\",\"\"SortCode\"\":\"\"12-34-56\"\",\"\"AccountNumber\"\":\"\"12345678\"\",\"\"Reference\"\":\"\"8c89390f-270b-4248-b0ed-278531ccec84\"\"},PaymentRecievedEventTopic,\"4/2/2025 3:47:20 PM +00:00\"\r\n",
              "3,Submission#3+PaymentRecievedEvent,{\"\"PaymentId\"\":\"\"68729cae-b2c3-4f83-bb43-cbbd01a1b2bb\"\",\"\"Amount\"\":341,\"\"IsoCurrencyCode\"\":\"\"GBP\"\",\"\"SortCode\"\":\"\"12-34-56\"\",\"\"AccountNumber\"\":\"\"12345678\"\",\"\"Reference\"\":\"\"01304e96-b110-4e79-952a-a8d1977c5a36\"\"},PaymentRecievedEventTopic,\"4/2/2025 3:47:20 PM +00:00\"\r\n",
              "4,Submission#3+PaymentRecievedEvent,{\"\"PaymentId\"\":\"\"b56a0056-071d-4be9-b2a4-2a515e8312a5\"\",\"\"Amount\"\":620,\"\"IsoCurrencyCode\"\":\"\"GBP\"\",\"\"SortCode\"\":\"\"12-34-56\"\",\"\"AccountNumber\"\":\"\"12345678\"\",\"\"Reference\"\":\"\"8b19ec1a-24eb-4c2e-9256-3960829c3c15\"\"},PaymentRecievedEventTopic,\"4/2/2025 3:47:20 PM +00:00\"\r\n"
            ],
            "text/html": [
              "<table><thead><tr><td><span>Id</span></td><td><span>TypeName</span></td><td><span>SerialisedData</span></td><td><span>MessagingEntityName</span></td><td><span>Created</span></td></tr></thead><tbody><tr><td><div class=\"dni-plaintext\"><pre>1</pre></div></td><td>Submission#3+PaymentRecievedEvent</td><td>{&quot;PaymentId&quot;:&quot;1446b106-06fe-4144-b0ad-7e547e6384a3&quot;,&quot;Amount&quot;:939,&quot;IsoCurrencyCode&quot;:&quot;GBP&quot;,&quot;SortCode&quot;:&quot;12-34-56&quot;,&quot;AccountNumber&quot;:&quot;12345678&quot;,&quot;Reference&quot;:&quot;32195cef-b2d6-4b8c-a95e-02768d813289&quot;}</td><td>PaymentRecievedEventTopic</td><td><span>2025-04-02 15:47:20Z</span></td></tr><tr><td><div class=\"dni-plaintext\"><pre>2</pre></div></td><td>Submission#3+PaymentRecievedEvent</td><td>{&quot;PaymentId&quot;:&quot;d89d2e4b-d9e7-4a87-93e9-b7ee695c5012&quot;,&quot;Amount&quot;:958,&quot;IsoCurrencyCode&quot;:&quot;GBP&quot;,&quot;SortCode&quot;:&quot;12-34-56&quot;,&quot;AccountNumber&quot;:&quot;12345678&quot;,&quot;Reference&quot;:&quot;8c89390f-270b-4248-b0ed-278531ccec84&quot;}</td><td>PaymentRecievedEventTopic</td><td><span>2025-04-02 15:47:20Z</span></td></tr><tr><td><div class=\"dni-plaintext\"><pre>3</pre></div></td><td>Submission#3+PaymentRecievedEvent</td><td>{&quot;PaymentId&quot;:&quot;68729cae-b2c3-4f83-bb43-cbbd01a1b2bb&quot;,&quot;Amount&quot;:341,&quot;IsoCurrencyCode&quot;:&quot;GBP&quot;,&quot;SortCode&quot;:&quot;12-34-56&quot;,&quot;AccountNumber&quot;:&quot;12345678&quot;,&quot;Reference&quot;:&quot;01304e96-b110-4e79-952a-a8d1977c5a36&quot;}</td><td>PaymentRecievedEventTopic</td><td><span>2025-04-02 15:47:20Z</span></td></tr><tr><td><div class=\"dni-plaintext\"><pre>4</pre></div></td><td>Submission#3+PaymentRecievedEvent</td><td>{&quot;PaymentId&quot;:&quot;b56a0056-071d-4be9-b2a4-2a515e8312a5&quot;,&quot;Amount&quot;:620,&quot;IsoCurrencyCode&quot;:&quot;GBP&quot;,&quot;SortCode&quot;:&quot;12-34-56&quot;,&quot;AccountNumber&quot;:&quot;12345678&quot;,&quot;Reference&quot;:&quot;8b19ec1a-24eb-4c2e-9256-3960829c3c15&quot;}</td><td>PaymentRecievedEventTopic</td><td><span>2025-04-02 15:47:20Z</span></td></tr></tbody></table><style>\r\n",
              ".dni-code-hint {\r\n",
              "    font-style: italic;\r\n",
              "    overflow: hidden;\r\n",
              "    white-space: nowrap;\r\n",
              "}\r\n",
              ".dni-treeview {\r\n",
              "    white-space: nowrap;\r\n",
              "}\r\n",
              ".dni-treeview td {\r\n",
              "    vertical-align: top;\r\n",
              "    text-align: start;\r\n",
              "}\r\n",
              "details.dni-treeview {\r\n",
              "    padding-left: 1em;\r\n",
              "}\r\n",
              "table td {\r\n",
              "    text-align: start;\r\n",
              "}\r\n",
              "table tr { \r\n",
              "    vertical-align: top; \r\n",
              "    margin: 0em 0px;\r\n",
              "}\r\n",
              "table tr td pre \r\n",
              "{ \r\n",
              "    vertical-align: top !important; \r\n",
              "    margin: 0em 0px !important;\r\n",
              "} \r\n",
              "table th {\r\n",
              "    text-align: start;\r\n",
              "}\r\n",
              "</style>"
            ]
          },
          "metadata": {},
          "output_type": "display_data"
        },
        {
          "data": {
            "text/csv": [
              "Id,OutboxItemId,Status,NotBefore,Created,StatusText\r\n",
              "1,1,1,,\"4/2/2025 3:47:20 PM +00:00\",Sent\r\n",
              "2,2,2,\"4/2/2025 3:48:20 PM +00:00\",\"4/2/2025 3:47:20 PM +00:00\",TransientFailure\r\n",
              "3,3,3,\"4/2/2025 3:48:20 PM +00:00\",\"4/2/2025 3:47:20 PM +00:00\",Scheduled\r\n",
              "4,4,4,,\"4/2/2025 3:47:20 PM +00:00\",Cancelled\r\n"
            ],
            "text/html": [
              "<table><thead><tr><td><span>Id</span></td><td><span>OutboxItemId</span></td><td><span>Status</span></td><td><span>NotBefore</span></td><td><span>Created</span></td><td><span>StatusText</span></td></tr></thead><tbody><tr><td><div class=\"dni-plaintext\"><pre>1</pre></div></td><td><div class=\"dni-plaintext\"><pre>1</pre></div></td><td><div class=\"dni-plaintext\"><pre>1</pre></div></td><td><div class=\"dni-plaintext\"><pre>&lt;null&gt;</pre></div></td><td><span>2025-04-02 15:47:20Z</span></td><td>Sent</td></tr><tr><td><div class=\"dni-plaintext\"><pre>2</pre></div></td><td><div class=\"dni-plaintext\"><pre>2</pre></div></td><td><div class=\"dni-plaintext\"><pre>2</pre></div></td><td><span>2025-04-02 15:48:20Z</span></td><td><span>2025-04-02 15:47:20Z</span></td><td>TransientFailure</td></tr><tr><td><div class=\"dni-plaintext\"><pre>3</pre></div></td><td><div class=\"dni-plaintext\"><pre>3</pre></div></td><td><div class=\"dni-plaintext\"><pre>3</pre></div></td><td><span>2025-04-02 15:48:20Z</span></td><td><span>2025-04-02 15:47:20Z</span></td><td>Scheduled</td></tr><tr><td><div class=\"dni-plaintext\"><pre>4</pre></div></td><td><div class=\"dni-plaintext\"><pre>4</pre></div></td><td><div class=\"dni-plaintext\"><pre>4</pre></div></td><td><div class=\"dni-plaintext\"><pre>&lt;null&gt;</pre></div></td><td><span>2025-04-02 15:47:20Z</span></td><td>Cancelled</td></tr></tbody></table><style>\r\n",
              ".dni-code-hint {\r\n",
              "    font-style: italic;\r\n",
              "    overflow: hidden;\r\n",
              "    white-space: nowrap;\r\n",
              "}\r\n",
              ".dni-treeview {\r\n",
              "    white-space: nowrap;\r\n",
              "}\r\n",
              ".dni-treeview td {\r\n",
              "    vertical-align: top;\r\n",
              "    text-align: start;\r\n",
              "}\r\n",
              "details.dni-treeview {\r\n",
              "    padding-left: 1em;\r\n",
              "}\r\n",
              "table td {\r\n",
              "    text-align: start;\r\n",
              "}\r\n",
              "table tr { \r\n",
              "    vertical-align: top; \r\n",
              "    margin: 0em 0px;\r\n",
              "}\r\n",
              "table tr td pre \r\n",
              "{ \r\n",
              "    vertical-align: top !important; \r\n",
              "    margin: 0em 0px !important;\r\n",
              "} \r\n",
              "table th {\r\n",
              "    text-align: start;\r\n",
              "}\r\n",
              "</style>"
            ]
          },
          "metadata": {},
          "output_type": "display_data"
        }
      ],
      "source": [
        "SELECT * FROM OutboxItems\n",
        "\n",
        "SELECT *,\n",
        "    CASE \n",
        "        WHEN [Status] = 1 THEN 'Sent'\n",
        "        WHEN [Status] = 2 THEN 'TransientFailure'\n",
        "        WHEN [Status] = 3 THEN 'Scheduled'\n",
        "        WHEN [Status] = 4 THEN 'Cancelled'\n",
        "        ELSE 'Unknown Status'\n",
        "    END AS StatusText\n",
        " FROM OutboxItemStatus"
      ]
    },
    {
      "cell_type": "markdown",
      "metadata": {},
      "source": [
        "### Now we can create an OutboxBatchRepository..."
      ]
    },
    {
      "cell_type": "code",
      "execution_count": 12,
      "metadata": {
        "polyglot_notebook": {
          "kernelName": "csharp"
        }
      },
      "outputs": [],
      "source": [
        "using System;\n",
        "using System.Collections.Generic;\n",
        "using System.Data;\n",
        "using System.Threading.Tasks;\n",
        "using Dapper;\n",
        "using System.Text.Json.Serialization;\n",
        "\n",
        "public record OutboxBatchItem\n",
        "(\n",
        "    long Id,\n",
        "    string TypeName,\n",
        "    string SerialisedData,\n",
        "    string MessagingEntityName,\n",
        "    DateTimeOffset Created,\n",
        "    OutboxSentStatus Status,\n",
        "    DateTimeOffset? NotBefore\n",
        ")\n",
        "{\n",
        "    [JsonConstructor]\n",
        "    public OutboxBatchItem(long id, string typeName, string serialisedData, string messagingEntityName, DateTimeOffset created, byte status, DateTimeOffset? notBefore)\n",
        "        : this(id, typeName, serialisedData, messagingEntityName, created, (OutboxSentStatus)status, notBefore)\n",
        "    {\n",
        "    }\n",
        "}\n",
        "\n",
        "public class OutboxBatchRepository\n",
        "{\n",
        "    private readonly IDbConnection _dbConnection;\n",
        "\n",
        "    public OutboxBatchRepository(IDbConnection dbConnection)\n",
        "    {\n",
        "        _dbConnection = dbConnection;\n",
        "    }\n",
        "\n",
        "    public async Task<IEnumerable<OutboxBatchItem>> GetNextBatchAsync(int batchSize)\n",
        "    {\n",
        "        const string sql = @\"\n",
        "            WITH LatestStatus AS\n",
        "            (\n",
        "                SELECT\n",
        "                    OIS.[OutboxItemId],\n",
        "                    OIS.[Status],\n",
        "                    OIS.[NotBefore],\n",
        "                    ROW_NUMBER() OVER (PARTITION BY OIS.[OutboxItemId] ORDER BY OIS.[Created] DESC) AS RowNum\n",
        "                FROM [dbo].[OutboxItemStatus] OIS\n",
        "            )\n",
        "            SELECT TOP (@BatchSize) \n",
        "                OI.[Id],\n",
        "                OI.[TypeName],\n",
        "                OI.[SerialisedData],\n",
        "                OI.[MessagingEntityName],\n",
        "                OI.[Created],\n",
        "                CAST(LS.[Status] AS INT) AS Status,                \n",
        "                LS.[NotBefore]\n",
        "            FROM [dbo].[OutboxItems] OI WITH (UPDLOCK, READPAST)\n",
        "            LEFT JOIN LatestStatus LS\n",
        "                ON OI.[Id] = LS.[OutboxItemId] AND LS.RowNum = 1\n",
        "            WHERE\n",
        "                LS.[OutboxItemId] IS NULL -- No status record exists yet\n",
        "                OR (LS.[Status] = 2 AND LS.[NotBefore] < GETUTCDATE()) -- TransientFailure and NotBefore has passed        \n",
        "                OR (LS.[Status] = 3 AND LS.[NotBefore] < GETUTCDATE()) -- Scheduled and NotBefore has passed        \n",
        "            ORDER BY OI.[Created];\";\n",
        "\n",
        "        return await _dbConnection.QueryAsync<OutboxBatchItem>(sql, new { BatchSize = batchSize });        \n",
        "    }\n",
        "}"
      ]
    },
    {
      "cell_type": "markdown",
      "metadata": {},
      "source": [
        "### And use it..."
      ]
    },
    {
      "cell_type": "code",
      "execution_count": 16,
      "metadata": {
        "polyglot_notebook": {
          "kernelName": "csharp"
        }
      },
      "outputs": [
        {
          "data": {
            "text/markdown": [
              "- 2 PaymentRecievedEventTopic TransientFailure"
            ]
          },
          "metadata": {},
          "output_type": "display_data"
        },
        {
          "data": {
            "text/markdown": [
              "- 3 PaymentRecievedEventTopic Scheduled"
            ]
          },
          "metadata": {},
          "output_type": "display_data"
        }
      ],
      "source": [
        "using System;\n",
        "using Microsoft.Data.SqlClient;\n",
        "using System.Threading.Tasks;\n",
        "\n",
        "var connectionString = \"Server=(localdb)\\\\MSSQLLocalDB;Database=WeatherAppDb;\";\n",
        "\n",
        "var connection = new Microsoft.Data.SqlClient.SqlConnection(connectionString);\n",
        "var repository = new OutboxBatchRepository(connection);\n",
        "\n",
        "var batchSize = 10;\n",
        "var batch = await repository.GetNextBatchAsync(batchSize);\n",
        "\n",
        "foreach (var item in batch)\n",
        "\t//Console.WriteLine($\"Id: {item.Id} => {item.MessagingEntityName}, Status: {item.Status.ToString()}\");\n",
        "\t$\"- {item.Id} {item.MessagingEntityName} {item.Status.ToString()}\".DisplayAs(\"text/markdown\");"
      ]
    },
    {
      "cell_type": "markdown",
      "metadata": {},
      "source": [
        "ToDo:\n",
        "\n",
        "- demonstrate batch locking with two consumers\n",
        "- sweeper to delete old records"
      ]
    }
  ],
  "metadata": {
    "kernelspec": {
      "display_name": ".NET (C#)",
      "language": "C#",
      "name": ".net-csharp"
    },
    "language_info": {
      "name": "polyglot-notebook"
    },
    "polyglot_notebook": {
      "kernelInfo": {
        "defaultKernelName": "csharp",
        "items": [
          {
            "aliases": [],
            "languageName": "csharp",
            "name": "csharp"
          },
          {
            "aliases": [],
            "languageName": "T-SQL",
            "name": "sql-Outbox"
          }
        ]
      }
    }
  },
  "nbformat": 4,
  "nbformat_minor": 2
}
